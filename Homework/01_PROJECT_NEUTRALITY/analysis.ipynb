{
 "cells": [
  {
   "cell_type": "markdown",
   "id": "579b567a-2b80-4bf1-8cc1-c514da76ca50",
   "metadata": {},
   "source": [
    "# (ADA) Homework 1: Scoring the Language Model Olympics\n",
    "\n",
    "---\n",
    "\n",
    "By the end of this homework, we expect you to be able to:\n",
    "\n",
    "- Load data and handle data using pandas;\n",
    "- Navigate the documentation of Python packages by yourself;\n",
    "- Filter and tidy up noisy real-world datasets;\n",
    "- Aggregate your data in different (and hopefully helpful) ways;\n",
    "- Create meaningful visualizations to analyze the data;\n",
    "- Communicate your findings in a clear and concise manner\n",
    "\n",
    "---\n",
    "\n",
    "**Important Dates.**\n",
    "\n",
    "- Homework release: Fri 04 Oct 2024\n",
    "- Homework due: Sat 18 Oct 2024, 23:59\n",
    "- Grade release: Mon 04 Nov 2024\n",
    "\n",
    "**Some rules**\n",
    "\n",
    "- You are allowed to use any built-in Python library that comes with Anaconda. If you want to use an external library, you may do so, but must justify your choice.\n",
    "- Make sure you use the data folder provided in the repository in read-only mode. (Or alternatively, be sure you don’t change any of the files.)\n",
    "- Be sure to provide a concise textual description of your thought process, the assumptions you made, the solution you implemented, and explanations for your answers. A notebook that only has code cells will not suffice. To avoid confusion: use short comments for longer code answers.\n",
    "- For questions containing the /Discuss:/ prefix, answer not with code, but with a textual explanation (in markdown).\n",
    "- Back up any hypotheses and claims with data, since this is an important aspect of the course.\n",
    "- Please write all your comments in English, and use meaningful variable names in your code. Your repo should have a single notebook (plus the required data files) in the master/main branch. If there are multiple notebooks present, we will not grade anything.\n",
    "- We will not run your notebook for you! Rather, we will grade it as is, which means that only the results contained in your evaluated code cells will be considered, and we will not see the results in unevaluated code cells. Thus, be sure to hand in a fully-run and evaluated notebook. In order to check whether everything looks as intended, you can check the rendered notebook on the GitHub website once you have pushed your solution there.\n",
    "- In continuation to the previous point, interactive plots, such as those generated using the ‘plotly’ package, should be strictly avoided! Make sure to print results and/or dataframes that confirm you have properly addressed the task.\n",
    "\n",
    "**A Note on using Language Models (LMs)**\n",
    "\n",
    "If you try hard enough, you will likely get away with cheating. Fortunately, our job is not to police, but rather to educate! So, please consider the following:\n",
    "- Presumably, you are taking this course to learn something! LMs are not always right ([they often fail in silly ways](https://community.openai.com/t/why-9-11-is-larger-than-9-9-incredible/869824/4)). This course should prepare you to detect when they are wrong!\n",
    "- Some of the TAs on this course literally published many works on detecting machine-generated text.\n",
    "---"
   ]
  },
  {
   "cell_type": "markdown",
   "id": "4f85896e-c0ae-4ae3-af41-46149faa2278",
   "metadata": {},
   "source": [
    "## Context\n",
    "\n",
    "Context\n",
    "AI is booming! Newspapers, influencers, and your relatives all agree that AI is important. But while almost everyone agrees that AI is the future, much is unclear about what that future looks like…\n",
    "\n",
    "Freshly graduated from the EPFL, you are hired by the Swiss government to advise on a large-scale “AI integration” initiative code-named **\"NEUTRALITY\"** (Navigating Efficient Upgrades Through Robust Artificial Learning Integration Techniques Yearly). Convinced by the stunning progress in language modeling, the government would like to battle the growing shortages in the education sector by using LMs. Your job description: investigate which LMs might be best suited!\n",
    "\n",
    "You are given the results of three LMs on the [“Massive Multitask Language Understanding (MMLU)”](https://arxiv.org/abs/2009.03300) dataset to compare. This famous dataset consists of 57 subjects with multiple-choice questions, covering diverse subjects like mathematics, computer science, history, and law. Most providers of state-of-the-art LMs use this dataset to showcase the versatility of their latest models. Unfortunately, Horta-Ribeiro, the intern responsible for collecting the results, didn’t take EPFL’s famous ADA course. As a result, the collected datasets are slightly corrupted.\n",
    "\n",
    "### A very brief primer on Language Models\n",
    "Language models (LMs) are sophisticated statistical models designed to understand and generate human-like text. At their core, LMs are trained to predict the most likely continuation of a given input text. For example, given the input \"The cat sat on the,\" an LM might predict \"mat\" as a likely continuation.\n",
    "LMs are trained on vast text samples from various sources, including books, websites, and social media. This extensive training allows them to capture patterns and relationships in language, enabling them to generate coherent and contextually appropriate text across a wide range of topics and styles.\n",
    "\n",
    "While LMs can produce text that appears to be written by intelligent humans, it's important to note that their capabilities can diverge from human intelligence in unexpected ways. They may sometimes generate factually incorrect information or struggle with complex reasoning tasks.\n",
    "\n",
    "Two key concepts in understanding LMs are:\n",
    "1. **Tokens**: LMs process text using \"tokens\" rather than individual characters. Tokens can be words, parts of words, or punctuation marks. For example, the sentence \"I love AI!\" might be tokenized as [\"I\", \"love\", \"AI\", \"!\"]. Tokenization is the first step in both training and using an LM.\n",
    "2. **Context**: The input text provided to an LM is called the \"context.\" This context informs the model's predictions or generations. A longer or more specific context often leads to more accurate and relevant outputs.\n",
    "\n",
    "[See: Wikipedia entry on language models](https://en.wikipedia.org/wiki/Large_language_model)\n",
    "\n",
    "###  Files for this assignment\n",
    "This assignment is divided into three tasks, each of which should bring you a step closer to providing a recommendation toward project NEUTRALITY’s objectives:\n",
    "\n",
    "- **Task 1**: Inspecting the results and getting your first model ranking\n",
    "- **Task 2**: Inspecting the underlying data used to generate the results for possible biases\n",
    "- **Task 3**: Learning about tokens and providing a final recommendation\n",
    "\n",
    "\n",
    "```\n",
    "📁 PROJECT_NEUTRALITY\n",
    "│\n",
    "├── 📄 analysis.ipynb (the file you're currently reading!)\n",
    "├── 📄 requirements.txt (install into your environment)\n",
    "│\n",
    "├── 📁 task_1\n",
    "├── 📁 task_2\n",
    "└── 📁 task_2.5\n",
    "```   \n",
    " "
   ]
  },
  {
   "cell_type": "code",
   "id": "95ce4c12-9681-401e-9489-aa0765b19d5d",
   "metadata": {
    "ExecuteTime": {
     "end_time": "2024-10-10T20:53:41.852339Z",
     "start_time": "2024-10-10T20:53:38.974934Z"
    }
   },
   "source": [
    "# please make sure you install the packages listed in the requirements.txt file in your environment!\n",
    "# using pip\n",
    "# pip install -r requirements.txt\n",
    "#\n",
    "# using Conda:\n",
    "# conda create --name <env_name> --file requirements.txt\n",
    "#\n",
    "# some basic imports\n",
    "import os\n",
    "import pandas as pd\n",
    "import numpy as np\n",
    "import matplotlib.pyplot as plt\n",
    "import warnings\n",
    "from scipy.stats import ttest_ind\n",
    "from sympy.physics.quantum.identitysearch import scipy"
   ],
   "outputs": [],
   "execution_count": 2
  },
  {
   "cell_type": "markdown",
   "id": "e62594ad-4f5f-4a46-80bc-deacf66b62e9",
   "metadata": {},
   "source": [
    "## Task 1 (18 points): What's in an average anyway?\n",
    "\n",
    "The files needed to complete task 1 can be found in the folder \"`data/task_1/`:\n",
    "```\n",
    "task_1/\n",
    "│\n",
    "├── mmlu_data/\n",
    "│   └── test.csv\n",
    "│\n",
    "└── lm_scores/\n",
    "    ├── lm_X.csv\n",
    "    ├── lm_Y.csv\n",
    "    └── lm_Z.csv\n",
    "```\n",
    "\n",
    "We will start by loading, (manually) inspecting, and cleaning the data. Although it doesn't seem \"glamorous\" (nor is it particularly fun...) - manually inspecting data is extremely important! In fact, it's one of the few things most AI and Data Science researchers agree on :). Next, we will take a first pass on ordering our Olympic podium between three LMs."
   ]
  },
  {
   "cell_type": "markdown",
   "id": "f8605646-79fa-4cb3-8137-b6951bd1e064",
   "metadata": {},
   "source": [
    "### 1.1 (1 pt)\n",
    " \n",
    "Load the subfiles contained in the `mmlu_data` and `lm_scores` folders into separate dataframes:\n",
    "- `df_test`\n",
    "- `df_x`\n",
    "- `df_y`\n",
    "- `df_z`\n",
    "\n",
    "for each, print their sizes."
   ]
  },
  {
   "metadata": {
    "ExecuteTime": {
     "end_time": "2024-10-09T21:21:40.354799Z",
     "start_time": "2024-10-09T21:21:40.206690Z"
    }
   },
   "cell_type": "code",
   "source": [
    "df_test = pd.read_csv('task_1/mmlu_data/test.csv', sep = ',')\n",
    "df_x = pd.read_csv('task_1/lm_scores/lm_X.csv', sep = ',')\n",
    "df_y = pd.read_csv('task_1/lm_scores/lm_y.csv', sep = ',')\n",
    "df_z = pd.read_csv('task_1/lm_scores/lm_z.csv', sep = ',')\n",
    "\n",
    "print('Size of df_test :', df_test.shape[0])\n",
    "print('Size of df_x :', df_x.shape[0])\n",
    "print('Size of df_y :', df_y.shape[0])\n",
    "print('Size of df_z :', df_z.shape[0])"
   ],
   "id": "8e04c91a5081bfd1",
   "outputs": [
    {
     "name": "stdout",
     "output_type": "stream",
     "text": [
      "Size of df_test : 14042\n",
      "Size of df_x : 13882\n",
      "Size of df_y : 13978\n",
      "Size of df_z : 13923\n"
     ]
    }
   ],
   "execution_count": 2
  },
  {
   "cell_type": "markdown",
   "id": "acbda57d-7df2-4e33-b31c-52bc0af6753e",
   "metadata": {},
   "source": [
    "### 1.2 (4 pt)\n",
    "Unfortunately, LMs don't always output the format we want. In the column `result`, the value should be one of A, B, C, or D. \n",
    "\n",
    "A. For each of the LM score dataframes, use a `value_counts()` operation and print the results. \n",
    "\n",
    "B. /Discuss:/ Inspect the results and describe the types of answer formats you see. Besides the \"expected\" case, you should be able to find at least four unexpected formats."
   ]
  },
  {
   "cell_type": "code",
   "id": "79936f23",
   "metadata": {
    "ExecuteTime": {
     "end_time": "2024-10-09T21:22:17.081995Z",
     "start_time": "2024-10-09T21:22:17.048050Z"
    }
   },
   "source": [
    "# A\n",
    "df_x_unique_vals = df_x.value_counts('result', dropna=False) \n",
    "print('df_x value counts :\\n', df_x_unique_vals, '\\n')\n",
    "print('df_x value counts [0:20]:\\n', df_x_unique_vals[0:20])\n",
    "print(50*'-')\n",
    "\n",
    "df_y_unique_vals = df_y.value_counts('result', dropna=False)\n",
    "print('df_y value counts :\\n', df_y_unique_vals, '\\n')\n",
    "print('df_y value counts [0:20]:\\n', df_y_unique_vals[0:20])\n",
    "print(50*'-')\n",
    "\n",
    "df_z_unique_vals = df_z.value_counts('result', dropna=False)\n",
    "print('df_z value counts :\\n', df_z_unique_vals, '\\n')\n",
    "print('df_z value counts [0:20]:\\n', df_z_unique_vals[0:20])\n",
    "print(50*'-')"
   ],
   "outputs": [
    {
     "name": "stdout",
     "output_type": "stream",
     "text": [
      "df_x value counts :\n",
      " result\n",
      "A                                                                      2733\n",
      "A                                                                      1657\n",
      "B                                                                      1412\n",
      "Answer: A                                                              1398\n",
      "C                                                                      1134\n",
      "                                                                       ... \n",
      "Fifty-one percent, so the answer is B                                     1\n",
      "False, False, so the answer is B                                          1\n",
      "David Hume, so the answer is D                                            1\n",
      "Cytokine secretion by natural killer cells, so the answer is A            1\n",
      "Overhunting and depletion of furbearing animals, so the answer is D       1\n",
      "Name: count, Length: 146, dtype: int64 \n",
      "\n",
      "df_x value counts [0:20]:\n",
      " result\n",
      "A                                                                                             2733\n",
      "A                                                                                             1657\n",
      "B                                                                                             1412\n",
      "Answer: A                                                                                     1398\n",
      "C                                                                                             1134\n",
      "D                                                                                             1124\n",
      "B                                                                                              793\n",
      "Answer: B                                                                                      760\n",
      "C                                                                                              622\n",
      "Answer: D                                                                                      613\n",
      "D                                                                                              596\n",
      "Answer: C                                                                                      594\n",
      "NaN                                                                                            170\n",
      "Not Sure                                                                                        73\n",
      "None of the above                                                                               69\n",
      "Wrong, Wrong, so the answer is A                                                                 4\n",
      "Yes, because the aluminum sheets were nonconforming goods., so the answer is A                   1\n",
      "These craters contain the only permanently shadowed regions on Mercury, so the answer is D       1\n",
      "internal reflection, so the answer is A                                                          1\n",
      "in parallel., so the answer is B                                                                 1\n",
      "Name: count, dtype: int64\n",
      "--------------------------------------------------\n",
      "df_y value counts :\n",
      " result\n",
      "D                                         2894\n",
      "Answer: D                                 1718\n",
      "C                                         1701\n",
      "B                                         1240\n",
      "D                                         1145\n",
      "                                          ... \n",
      "Insomnia, so the answer is D                 1\n",
      "Hyperpolarization, so the answer is C        1\n",
      "Human wants, so the answer is C              1\n",
      "Hierarchy of needs, so the answer is D       1\n",
      "PET, so the answer is C                      1\n",
      "Name: count, Length: 142, dtype: int64 \n",
      "\n",
      "df_y value counts [0:20]:\n",
      " result\n",
      "D                                                                      2894\n",
      "Answer: D                                                              1718\n",
      "C                                                                      1701\n",
      "B                                                                      1240\n",
      "D                                                                      1145\n",
      "A                                                                      1008\n",
      "Answer: C                                                               907\n",
      "Answer: B                                                               726\n",
      "C                                                                       634\n",
      "Answer: A                                                               597\n",
      "B                                                                       553\n",
      "A                                                                       428\n",
      "NaN                                                                     145\n",
      "Not Sure                                                                 86\n",
      "None of the above                                                        66\n",
      "Not wrong, Not wrong, so the answer is D                                  2\n",
      "Not wrong, Wrong, so the answer is C                                      2\n",
      "(i), (ii), (iii), and (iv), so the answer is D                            2\n",
      "ADP + P → ATP, so the answer is D                                         1\n",
      "Uruguay, Costa Rica, Timor-Leste, and Pakistan., so the answer is C       1\n",
      "Name: count, dtype: int64\n",
      "--------------------------------------------------\n",
      "df_z value counts :\n",
      " result\n",
      "D                                             2257\n",
      "C                                             2191\n",
      "B                                             2127\n",
      "A                                             2060\n",
      "Answer: D                                      777\n",
      "                                              ... \n",
      "I and II only, so the answer is D                1\n",
      "Humans, so the answer is D                       1\n",
      "Humanism, so the answer is A                     1\n",
      "Higher in the sky, so the answer is C            1\n",
      "Second Great Awakening, so the answer is B       1\n",
      "Name: count, Length: 561, dtype: int64 \n",
      "\n",
      "df_z value counts [0:20]:\n",
      " result\n",
      "D                                           2257\n",
      "C                                           2191\n",
      "B                                           2127\n",
      "A                                           2060\n",
      "Answer: D                                    777\n",
      "Answer: C                                    748\n",
      "Answer: B                                    712\n",
      "Answer: A                                    687\n",
      "NaN                                          345\n",
      "C                                            316\n",
      "D                                            314\n",
      "B                                            285\n",
      "A                                            279\n",
      "Not Sure                                     125\n",
      "None of the above                            119\n",
      "Not wrong, Not wrong, so the answer is D      10\n",
      "Wrong, Not wrong, so the answer is B           9\n",
      "Wrong, Wrong, so the answer is A               9\n",
      "Not wrong, Wrong, so the answer is C           8\n",
      "Contradictory, so the answer is B              2\n",
      "Name: count, dtype: int64\n",
      "--------------------------------------------------\n"
     ]
    }
   ],
   "execution_count": 4
  },
  {
   "metadata": {},
   "cell_type": "markdown",
   "source": [
    "B.\n",
    "#### Results\n",
    "We see that for the majority of the dataset unique values, we have the results 'A', 'B', 'C' and 'D', as expected. However, there are more type of answer formats, such as :\n",
    "- Answer : [letter] where letter is in {'A', 'B', 'C', 'D'}\n",
    "- Nan\n",
    "- Not Sure\n",
    "- None of the above\n",
    "- [explanation], so the answer is [letter], where explanation is an explanation sentence generated by the LM.\n"
   ],
   "id": "e24fb1b64cfa2217"
  },
  {
   "cell_type": "markdown",
   "id": "88c5551d-1968-427b-bdd6-51d996898e7c",
   "metadata": {},
   "source": [
    "### 1.3 (5 pt)\n",
    "Oh oh... That doesn't look great. Simply dropping all invalid answers seems overly wasteful, yet fixing all of these looks like a mess! Instead, let's focus for now on fixing just those answers of length < 10 characters that require only a single `str.replace()` operation. \n",
    "\n",
    "For example, if the answer looks like `--A--`, we could fix this by using the following simple function:\n",
    "\n",
    "```\n",
    "def clean_answer(s, pattern='-'):\n",
    "    return str(s).replace(pattern, '')\n",
    "\n",
    "dirty_answer = '--A--'\n",
    "clean_answer = clean_answer(dirty_answer)\n",
    "```\n",
    "\n",
    "A. Filter the three score dataframes to include only answers with less than 10 characters. Make a deep copy of the dataframes as you filter them.\n",
    "\n",
    "B. Modify the `clean_answer()` example function to clean the answers in the filtered data frames using the `apply()` functionality. Finally, make sure **all remaining answers are one of `A, B, C, or D`.**\n",
    "\n",
    "C. /Discuss:/ Compare the sizes of the original and filtered data frames. What do you see? Why might this be a problem?"
   ]
  },
  {
   "cell_type": "code",
   "id": "aef1f933-20bf-426a-ac9d-a35e273b9bd2",
   "metadata": {
    "ExecuteTime": {
     "end_time": "2024-10-09T21:23:57.636944Z",
     "start_time": "2024-10-09T21:23:57.601018Z"
    }
   },
   "source": [
    "# A\n",
    "df_x_filtered = df_x[df_x['result'].map(lambda x: len(str(x))) < 10].copy(deep=True)\n",
    "df_y_filtered = df_y[df_y['result'].map(lambda x: len(str(x))) < 10].copy(deep=True)\n",
    "df_z_filtered = df_z[df_z['result'].map(lambda x: len(str(x))) < 10].copy(deep=True)\n",
    "\n",
    "print(df_x_filtered.value_counts('result'))\n",
    "print('Size :', df_x_filtered.shape[0])"
   ],
   "outputs": [
    {
     "name": "stdout",
     "output_type": "stream",
     "text": [
      "result\n",
      "A            2733\n",
      "A            1657\n",
      "B            1412\n",
      "Answer: A    1398\n",
      "C            1134\n",
      "D            1124\n",
      "B             793\n",
      "Answer: B     760\n",
      "C             622\n",
      "Answer: D     613\n",
      "D             596\n",
      "Answer: C     594\n",
      "Not Sure       73\n",
      "Name: count, dtype: int64\n",
      "Size : 13679\n"
     ]
    }
   ],
   "execution_count": 5
  },
  {
   "cell_type": "code",
   "id": "fd54f296",
   "metadata": {
    "ExecuteTime": {
     "end_time": "2024-10-09T21:23:58.721291Z",
     "start_time": "2024-10-09T21:23:58.673942Z"
    }
   },
   "source": [
    "# B\n",
    "def clean_answer(s, pattern='Answer: '):\n",
    "    return str(s).replace(pattern, '').strip()\n",
    "\n",
    "df_x_filtered['result'] = df_x_filtered['result'].apply(clean_answer)\n",
    "df_y_filtered['result'] = df_y_filtered['result'].apply(clean_answer)\n",
    "df_z_filtered['result'] = df_z_filtered['result'].apply(clean_answer)\n",
    "\n",
    "print(df_x_filtered.value_counts('result'))\n",
    "print('Size :', df_x_filtered.shape[0])\n",
    "print(30*'-')\n",
    "\n",
    "df_x_clean = df_x_filtered[df_x_filtered['result'].map(lambda x: len(str(x))) == 1].copy(deep=True)\n",
    "df_y_clean = df_y_filtered[df_y_filtered['result'].map(lambda x: len(str(x))) == 1].copy(deep=True)\n",
    "df_z_clean = df_z_filtered[df_z_filtered['result'].map(lambda x: len(str(x))) == 1].copy(deep=True)\n",
    "\n",
    "print(df_x_clean.value_counts('result'))\n",
    "print('Size :', df_x_clean.shape[0])\n",
    "print(30*'-')\n",
    "\n",
    "print('Size of df_x_clean :', df_x_clean.shape[0])\n",
    "print('Size of df_y_clean :', df_y_clean.shape[0])\n",
    "print('Size of df_z_clean :', df_z_clean.shape[0])\n"
   ],
   "outputs": [
    {
     "name": "stdout",
     "output_type": "stream",
     "text": [
      "result\n",
      "A           5788\n",
      "B           2965\n",
      "C           2350\n",
      "D           2333\n",
      "nan          170\n",
      "Not Sure      73\n",
      "Name: count, dtype: int64\n",
      "Size : 13679\n",
      "------------------------------\n",
      "result\n",
      "A    5788\n",
      "B    2965\n",
      "C    2350\n",
      "D    2333\n",
      "Name: count, dtype: int64\n",
      "Size : 13436\n",
      "------------------------------\n",
      "Size of df_x_clean : 13436\n",
      "Size of df_y_clean : 13551\n",
      "Size of df_z_clean : 12753\n"
     ]
    }
   ],
   "execution_count": 6
  },
  {
   "cell_type": "markdown",
   "id": "2415cd9b",
   "metadata": {},
   "source": [
    "C.\n",
    "- Size of the original dataframes df_x, df_y, df_z : 13882, 13978, 13923\n",
    "- Size of the cleaned dataframes df_x_clean, df_y_clean, df_z_clean : 13436, 13551, 12753\n",
    "- We lost approx. 400 rows in df_x, 500 rows in df_y and 1200 rows in df_z. This is a problem in the sense that we lost useful information, by cutting out the explanation with a letter answer format. We did not lose information by cutting out the Nan's and the other formats as they did not provide an acceptable answer.\n",
    "- We could have filtered better the dataframes by keeping the letter answer in the explanations format instead of cutting them out.\n"
   ]
  },
  {
   "cell_type": "markdown",
   "id": "da1cf129-09dd-47b1-9737-2c4d57eb8853",
   "metadata": {},
   "source": [
    "### 1.4 (3 pt)\n",
    "\n",
    "Now that our answer columns are nicely formatted, let's take a look at model performance:\n",
    "\n",
    "A. Both the `MMLU` dataframes and the language model score data frames have the columns `question_id`. For each of the language model score data frames, use an inner join operation with the `df_test` dataframe on the `question_id` column.\n",
    "\n",
    "B. Add a new column to each of the resulting dataframes called `correct`, that checks if the model's answer in `result` is the same as the expected answer in the column `answer`. Then, print the average score of each model."
   ]
  },
  {
   "cell_type": "code",
   "id": "e66b36f3-f5a4-4237-9b48-39b21716d7aa",
   "metadata": {
    "ExecuteTime": {
     "end_time": "2024-10-09T21:24:21.974888Z",
     "start_time": "2024-10-09T21:24:21.940766Z"
    }
   },
   "source": [
    "# A\n",
    "df_test_and_x = pd.merge(df_test, df_x_clean, on='question_id', how='inner')\n",
    "df_test_and_y = pd.merge(df_test, df_y_clean, on='question_id', how='inner')\n",
    "df_test_and_z = pd.merge(df_test, df_z_clean, on='question_id', how='inner')"
   ],
   "outputs": [],
   "execution_count": 7
  },
  {
   "cell_type": "code",
   "id": "50b024d2",
   "metadata": {
    "ExecuteTime": {
     "end_time": "2024-10-09T23:30:50.238126Z",
     "start_time": "2024-10-09T23:30:50.226570Z"
    }
   },
   "source": [
    "# B\n",
    "s_x_correct = df_test_and_x['answer'] == df_test_and_x['result']\n",
    "df_test_and_x['correct'] = s_x_correct\n",
    "\n",
    "s_y_correct = df_test_and_y['answer'] == df_test_and_y['result']\n",
    "df_test_and_y['correct'] = s_y_correct\n",
    "\n",
    "s_z_correct = df_test_and_z['answer'] == df_test_and_z['result']\n",
    "df_test_and_z['correct'] = s_z_correct\n",
    "\n",
    "x_correct_avg = df_test_and_x['correct'].mean(axis=0)\n",
    "y_correct_avg = df_test_and_y['correct'].mean(axis=0)\n",
    "z_correct_avg = df_test_and_z['correct'].mean(axis=0)\n",
    "\n",
    "print('Average score of model x :', x_correct_avg)\n",
    "print('Average score of model y :', y_correct_avg)\n",
    "print('Average score of model z :', z_correct_avg)"
   ],
   "outputs": [
    {
     "name": "stdout",
     "output_type": "stream",
     "text": [
      "Average score of model x : 0.7674903245013397\n",
      "Average score of model y : 0.7458490148328537\n",
      "Average score of model z : 0.663294911001333\n"
     ]
    }
   ],
   "execution_count": 139
  },
  {
   "metadata": {
    "ExecuteTime": {
     "end_time": "2024-10-09T22:27:24.772913Z",
     "start_time": "2024-10-09T22:27:24.748806Z"
    }
   },
   "cell_type": "code",
   "source": "df_test_and_x",
   "id": "7d5142a49a62bc0e",
   "outputs": [
    {
     "data": {
      "text/plain": [
       "                                                question  \\\n",
       "0      Find the degree for the given field extension ...   \n",
       "1      Let p = (1, 2, 5, 4)(2, 3) in S_5 . Find the i...   \n",
       "2      Find all zeros in the indicated finite field o...   \n",
       "3      Statement 1 | A factor group of a non-Abelian ...   \n",
       "4      Find the product of the given polynomials in t...   \n",
       "...                                                  ...   \n",
       "13431  What has been a central focus of religious tra...   \n",
       "13432   To whom did ordinary folk appeal during a dro...   \n",
       "13433   The theological term homoousios means which o...   \n",
       "13434  According to the Japanese origin myth, who giv...   \n",
       "13435   The numen of Augustus referred to which of th...   \n",
       "\n",
       "                            A                      B  \\\n",
       "0                           0                      4   \n",
       "1                           8                      2   \n",
       "2                           0                      1   \n",
       "3                  True, True           False, False   \n",
       "4                    2x^2 + 5          6x^2 + 4x + 6   \n",
       "...                       ...                    ...   \n",
       "13431       Peace and harmony    Power and influence   \n",
       "13432              The Buddha                  Laozi   \n",
       "13433  of a similar substance  of the same substance   \n",
       "13434                      Es                Izanagi   \n",
       "13435            Divine power        Sexual virility   \n",
       "\n",
       "                                  C                        D answer  \\\n",
       "0                                 2                        6      B   \n",
       "1                                24                      120      C   \n",
       "2                               0,1                      0,4      D   \n",
       "3                       True, False              False, True      B   \n",
       "4                                 0                  x^2 + 1      B   \n",
       "...                             ...                      ...    ...   \n",
       "13431                Truth and love        Wisdom and ethics      A   \n",
       "13432  The Queen Mother of the West                Confucius      C   \n",
       "13433             of like substance       of human substance      B   \n",
       "13434                       Izanami                     Kami      B   \n",
       "13435               Military acumen  Philosophical intellect      A   \n",
       "\n",
       "                subject  question_id result  correct  \n",
       "0      abstract algebra            0      B     True  \n",
       "1      abstract algebra            1      C     True  \n",
       "2      abstract algebra            2      D     True  \n",
       "3      abstract algebra            3      B     True  \n",
       "4      abstract algebra            4      B     True  \n",
       "...                 ...          ...    ...      ...  \n",
       "13431   world religions        14037      A     True  \n",
       "13432   world religions        14038      A    False  \n",
       "13433   world religions        14039      B     True  \n",
       "13434   world religions        14040      B     True  \n",
       "13435   world religions        14041      A     True  \n",
       "\n",
       "[13436 rows x 10 columns]"
      ],
      "text/html": [
       "<div>\n",
       "<style scoped>\n",
       "    .dataframe tbody tr th:only-of-type {\n",
       "        vertical-align: middle;\n",
       "    }\n",
       "\n",
       "    .dataframe tbody tr th {\n",
       "        vertical-align: top;\n",
       "    }\n",
       "\n",
       "    .dataframe thead th {\n",
       "        text-align: right;\n",
       "    }\n",
       "</style>\n",
       "<table border=\"1\" class=\"dataframe\">\n",
       "  <thead>\n",
       "    <tr style=\"text-align: right;\">\n",
       "      <th></th>\n",
       "      <th>question</th>\n",
       "      <th>A</th>\n",
       "      <th>B</th>\n",
       "      <th>C</th>\n",
       "      <th>D</th>\n",
       "      <th>answer</th>\n",
       "      <th>subject</th>\n",
       "      <th>question_id</th>\n",
       "      <th>result</th>\n",
       "      <th>correct</th>\n",
       "    </tr>\n",
       "  </thead>\n",
       "  <tbody>\n",
       "    <tr>\n",
       "      <th>0</th>\n",
       "      <td>Find the degree for the given field extension ...</td>\n",
       "      <td>0</td>\n",
       "      <td>4</td>\n",
       "      <td>2</td>\n",
       "      <td>6</td>\n",
       "      <td>B</td>\n",
       "      <td>abstract algebra</td>\n",
       "      <td>0</td>\n",
       "      <td>B</td>\n",
       "      <td>True</td>\n",
       "    </tr>\n",
       "    <tr>\n",
       "      <th>1</th>\n",
       "      <td>Let p = (1, 2, 5, 4)(2, 3) in S_5 . Find the i...</td>\n",
       "      <td>8</td>\n",
       "      <td>2</td>\n",
       "      <td>24</td>\n",
       "      <td>120</td>\n",
       "      <td>C</td>\n",
       "      <td>abstract algebra</td>\n",
       "      <td>1</td>\n",
       "      <td>C</td>\n",
       "      <td>True</td>\n",
       "    </tr>\n",
       "    <tr>\n",
       "      <th>2</th>\n",
       "      <td>Find all zeros in the indicated finite field o...</td>\n",
       "      <td>0</td>\n",
       "      <td>1</td>\n",
       "      <td>0,1</td>\n",
       "      <td>0,4</td>\n",
       "      <td>D</td>\n",
       "      <td>abstract algebra</td>\n",
       "      <td>2</td>\n",
       "      <td>D</td>\n",
       "      <td>True</td>\n",
       "    </tr>\n",
       "    <tr>\n",
       "      <th>3</th>\n",
       "      <td>Statement 1 | A factor group of a non-Abelian ...</td>\n",
       "      <td>True, True</td>\n",
       "      <td>False, False</td>\n",
       "      <td>True, False</td>\n",
       "      <td>False, True</td>\n",
       "      <td>B</td>\n",
       "      <td>abstract algebra</td>\n",
       "      <td>3</td>\n",
       "      <td>B</td>\n",
       "      <td>True</td>\n",
       "    </tr>\n",
       "    <tr>\n",
       "      <th>4</th>\n",
       "      <td>Find the product of the given polynomials in t...</td>\n",
       "      <td>2x^2 + 5</td>\n",
       "      <td>6x^2 + 4x + 6</td>\n",
       "      <td>0</td>\n",
       "      <td>x^2 + 1</td>\n",
       "      <td>B</td>\n",
       "      <td>abstract algebra</td>\n",
       "      <td>4</td>\n",
       "      <td>B</td>\n",
       "      <td>True</td>\n",
       "    </tr>\n",
       "    <tr>\n",
       "      <th>...</th>\n",
       "      <td>...</td>\n",
       "      <td>...</td>\n",
       "      <td>...</td>\n",
       "      <td>...</td>\n",
       "      <td>...</td>\n",
       "      <td>...</td>\n",
       "      <td>...</td>\n",
       "      <td>...</td>\n",
       "      <td>...</td>\n",
       "      <td>...</td>\n",
       "    </tr>\n",
       "    <tr>\n",
       "      <th>13431</th>\n",
       "      <td>What has been a central focus of religious tra...</td>\n",
       "      <td>Peace and harmony</td>\n",
       "      <td>Power and influence</td>\n",
       "      <td>Truth and love</td>\n",
       "      <td>Wisdom and ethics</td>\n",
       "      <td>A</td>\n",
       "      <td>world religions</td>\n",
       "      <td>14037</td>\n",
       "      <td>A</td>\n",
       "      <td>True</td>\n",
       "    </tr>\n",
       "    <tr>\n",
       "      <th>13432</th>\n",
       "      <td>To whom did ordinary folk appeal during a dro...</td>\n",
       "      <td>The Buddha</td>\n",
       "      <td>Laozi</td>\n",
       "      <td>The Queen Mother of the West</td>\n",
       "      <td>Confucius</td>\n",
       "      <td>C</td>\n",
       "      <td>world religions</td>\n",
       "      <td>14038</td>\n",
       "      <td>A</td>\n",
       "      <td>False</td>\n",
       "    </tr>\n",
       "    <tr>\n",
       "      <th>13433</th>\n",
       "      <td>The theological term homoousios means which o...</td>\n",
       "      <td>of a similar substance</td>\n",
       "      <td>of the same substance</td>\n",
       "      <td>of like substance</td>\n",
       "      <td>of human substance</td>\n",
       "      <td>B</td>\n",
       "      <td>world religions</td>\n",
       "      <td>14039</td>\n",
       "      <td>B</td>\n",
       "      <td>True</td>\n",
       "    </tr>\n",
       "    <tr>\n",
       "      <th>13434</th>\n",
       "      <td>According to the Japanese origin myth, who giv...</td>\n",
       "      <td>Es</td>\n",
       "      <td>Izanagi</td>\n",
       "      <td>Izanami</td>\n",
       "      <td>Kami</td>\n",
       "      <td>B</td>\n",
       "      <td>world religions</td>\n",
       "      <td>14040</td>\n",
       "      <td>B</td>\n",
       "      <td>True</td>\n",
       "    </tr>\n",
       "    <tr>\n",
       "      <th>13435</th>\n",
       "      <td>The numen of Augustus referred to which of th...</td>\n",
       "      <td>Divine power</td>\n",
       "      <td>Sexual virility</td>\n",
       "      <td>Military acumen</td>\n",
       "      <td>Philosophical intellect</td>\n",
       "      <td>A</td>\n",
       "      <td>world religions</td>\n",
       "      <td>14041</td>\n",
       "      <td>A</td>\n",
       "      <td>True</td>\n",
       "    </tr>\n",
       "  </tbody>\n",
       "</table>\n",
       "<p>13436 rows × 10 columns</p>\n",
       "</div>"
      ]
     },
     "execution_count": 93,
     "metadata": {},
     "output_type": "execute_result"
    }
   ],
   "execution_count": 93
  },
  {
   "cell_type": "markdown",
   "id": "69decfd8-8083-4c2f-8263-a153d55efede",
   "metadata": {},
   "source": [
    "### 1.5 (5 pt)\n",
    "\n",
    "Hmmm, something doesn't seem quite right. Let's investigate how \"balanced\" this dataset is:\n",
    "\n",
    "A. For each of the 57 subjects in the MMLU, compare the number of questions answered by each model. Print the subjects for which there is a more than 10% difference.\n",
    "\n",
    "B. Propose and implement a reasonable way to rebalance the results. (e.g., while throwing away 100% of the results perfectly rebalances the results, it is not reasonable).\n",
    "\n",
    "C. Finally, print the updated accuracy on the rebalanced data.\n",
    "\n",
    "**hint:**:\n",
    "- (A) For a given subject, let model X and model Y have answered 181 and 200 questions respectively. You can consider this a 10% difference from the perspective of X since: (200 - 181) / 181 > 0.10"
   ]
  },
  {
   "metadata": {
    "ExecuteTime": {
     "end_time": "2024-10-09T22:15:48.220109Z",
     "start_time": "2024-10-09T22:15:48.198098Z"
    }
   },
   "cell_type": "code",
   "source": [
    "# A\n",
    "df_x_subs = df_test_and_x.groupby(by='subject', as_index=False)['question'].count()\n",
    "df_y_subs = df_test_and_y.groupby(by='subject', as_index=False)['question'].count()\n",
    "df_z_subs = df_test_and_z.groupby(by='subject', as_index=False)['question'].count()\n",
    "\n",
    "df_xy_min = df_x_subs.where(cond=df_x_subs['question'] < df_y_subs['question'], other=df_y_subs, axis=0)\n",
    "df_xy_significant_difference = df_x_subs[ ((df_x_subs['question'] - df_y_subs['question']).abs() / df_xy_min['question']) > 0.10 ]['subject']\n",
    "\n",
    "df_xz_min = df_x_subs.where(cond=df_x_subs['question'] < df_z_subs['question'], other=df_z_subs, axis=0)\n",
    "df_xz_significant_difference = df_x_subs[ ((df_x_subs['question'] - df_z_subs['question']).abs() / df_xz_min['question']) > 0.10 ]['subject']\n",
    "\n",
    "df_yz_min = df_y_subs.where(cond=df_y_subs['question'] < df_z_subs['question'], other=df_z_subs, axis=0)\n",
    "df_yz_significant_difference = df_x_subs[ ((df_y_subs['question'] - df_z_subs['question']).abs() / df_yz_min['question']) > 0.10 ]['subject']\n",
    "\n",
    "print('Subjects with >10% difference for x and y :\\n', df_xy_significant_difference)\n",
    "print('Subjects with >10% difference for x and z :\\n', df_xz_significant_difference)\n",
    "print('Subjects with >10% difference for y and z :\\n', df_yz_significant_difference)"
   ],
   "id": "19463002-732b-405b-8b44-77f702bdb665",
   "outputs": [
    {
     "name": "stdout",
     "output_type": "stream",
     "text": [
      "Subjects with >10% difference for x and y :\n",
      " 16         formal logic\n",
      "36    logical fallacies\n",
      "43      moral scenarios\n",
      "Name: subject, dtype: object\n",
      "Subjects with >10% difference for x and z :\n",
      " 6            college chemistry\n",
      "7     college computer science\n",
      "22       high school geography\n",
      "42              moral disputes\n",
      "Name: subject, dtype: object\n",
      "Subjects with >10% difference for y and z :\n",
      " 6            college chemistry\n",
      "7     college computer science\n",
      "11           computer security\n",
      "40            medical genetics\n",
      "42              moral disputes\n",
      "43             moral scenarios\n",
      "Name: subject, dtype: object\n"
     ]
    }
   ],
   "execution_count": 91
  },
  {
   "metadata": {},
   "cell_type": "markdown",
   "source": [
    "#### B\n",
    "To balance the number of questions per subject for each model and to make it fair, we could do inner_joins on question_id over the questions that x, y and z have all answered."
   ],
   "id": "10ec0e5f6ee3e53f"
  },
  {
   "metadata": {
    "ExecuteTime": {
     "end_time": "2024-10-09T22:35:28.513495Z",
     "start_time": "2024-10-09T22:35:28.470833Z"
    }
   },
   "cell_type": "code",
   "source": [
    "# B\n",
    "df_ultimate = pd.merge(df_test, df_x_clean, on='question_id', how='inner')\n",
    "df_ultimate = pd.merge(df_ultimate, df_y_clean, on='question_id', how='inner')\n",
    "df_ultimate = pd.merge(df_ultimate, df_z_clean, on='question_id', how='inner')\n",
    "df_ultimate.rename(columns={'result': 'result_z'}, inplace=True)\n",
    "df_ultimate"
   ],
   "id": "91a63d9746419ce",
   "outputs": [
    {
     "data": {
      "text/plain": [
       "                                                question  \\\n",
       "0      Find the degree for the given field extension ...   \n",
       "1      Let p = (1, 2, 5, 4)(2, 3) in S_5 . Find the i...   \n",
       "2      Find all zeros in the indicated finite field o...   \n",
       "3      Find the product of the given polynomials in t...   \n",
       "4      Statement 1 | If a group has an element of ord...   \n",
       "...                                                  ...   \n",
       "11788  What has been a central focus of religious tra...   \n",
       "11789   To whom did ordinary folk appeal during a dro...   \n",
       "11790   The theological term homoousios means which o...   \n",
       "11791  According to the Japanese origin myth, who giv...   \n",
       "11792   The numen of Augustus referred to which of th...   \n",
       "\n",
       "                            A                      B  \\\n",
       "0                           0                      4   \n",
       "1                           8                      2   \n",
       "2                           0                      1   \n",
       "3                    2x^2 + 5          6x^2 + 4x + 6   \n",
       "4                  True, True           False, False   \n",
       "...                       ...                    ...   \n",
       "11788       Peace and harmony    Power and influence   \n",
       "11789              The Buddha                  Laozi   \n",
       "11790  of a similar substance  of the same substance   \n",
       "11791                      Es                Izanagi   \n",
       "11792            Divine power        Sexual virility   \n",
       "\n",
       "                                  C                        D answer  \\\n",
       "0                                 2                        6      B   \n",
       "1                                24                      120      C   \n",
       "2                               0,1                      0,4      D   \n",
       "3                                 0                  x^2 + 1      B   \n",
       "4                       True, False              False, True      A   \n",
       "...                             ...                      ...    ...   \n",
       "11788                Truth and love        Wisdom and ethics      A   \n",
       "11789  The Queen Mother of the West                Confucius      C   \n",
       "11790             of like substance       of human substance      B   \n",
       "11791                       Izanami                     Kami      B   \n",
       "11792               Military acumen  Philosophical intellect      A   \n",
       "\n",
       "                subject  question_id result_x result_y result_z  \n",
       "0      abstract algebra            0        B        D        B  \n",
       "1      abstract algebra            1        C        D        B  \n",
       "2      abstract algebra            2        D        D        C  \n",
       "3      abstract algebra            4        B        D        B  \n",
       "4      abstract algebra            5        A        C        A  \n",
       "...                 ...          ...      ...      ...      ...  \n",
       "11788   world religions        14037        A        C        A  \n",
       "11789   world religions        14038        A        D        A  \n",
       "11790   world religions        14039        B        D        B  \n",
       "11791   world religions        14040        B        B        B  \n",
       "11792   world religions        14041        A        D        A  \n",
       "\n",
       "[11793 rows x 11 columns]"
      ],
      "text/html": [
       "<div>\n",
       "<style scoped>\n",
       "    .dataframe tbody tr th:only-of-type {\n",
       "        vertical-align: middle;\n",
       "    }\n",
       "\n",
       "    .dataframe tbody tr th {\n",
       "        vertical-align: top;\n",
       "    }\n",
       "\n",
       "    .dataframe thead th {\n",
       "        text-align: right;\n",
       "    }\n",
       "</style>\n",
       "<table border=\"1\" class=\"dataframe\">\n",
       "  <thead>\n",
       "    <tr style=\"text-align: right;\">\n",
       "      <th></th>\n",
       "      <th>question</th>\n",
       "      <th>A</th>\n",
       "      <th>B</th>\n",
       "      <th>C</th>\n",
       "      <th>D</th>\n",
       "      <th>answer</th>\n",
       "      <th>subject</th>\n",
       "      <th>question_id</th>\n",
       "      <th>result_x</th>\n",
       "      <th>result_y</th>\n",
       "      <th>result_z</th>\n",
       "    </tr>\n",
       "  </thead>\n",
       "  <tbody>\n",
       "    <tr>\n",
       "      <th>0</th>\n",
       "      <td>Find the degree for the given field extension ...</td>\n",
       "      <td>0</td>\n",
       "      <td>4</td>\n",
       "      <td>2</td>\n",
       "      <td>6</td>\n",
       "      <td>B</td>\n",
       "      <td>abstract algebra</td>\n",
       "      <td>0</td>\n",
       "      <td>B</td>\n",
       "      <td>D</td>\n",
       "      <td>B</td>\n",
       "    </tr>\n",
       "    <tr>\n",
       "      <th>1</th>\n",
       "      <td>Let p = (1, 2, 5, 4)(2, 3) in S_5 . Find the i...</td>\n",
       "      <td>8</td>\n",
       "      <td>2</td>\n",
       "      <td>24</td>\n",
       "      <td>120</td>\n",
       "      <td>C</td>\n",
       "      <td>abstract algebra</td>\n",
       "      <td>1</td>\n",
       "      <td>C</td>\n",
       "      <td>D</td>\n",
       "      <td>B</td>\n",
       "    </tr>\n",
       "    <tr>\n",
       "      <th>2</th>\n",
       "      <td>Find all zeros in the indicated finite field o...</td>\n",
       "      <td>0</td>\n",
       "      <td>1</td>\n",
       "      <td>0,1</td>\n",
       "      <td>0,4</td>\n",
       "      <td>D</td>\n",
       "      <td>abstract algebra</td>\n",
       "      <td>2</td>\n",
       "      <td>D</td>\n",
       "      <td>D</td>\n",
       "      <td>C</td>\n",
       "    </tr>\n",
       "    <tr>\n",
       "      <th>3</th>\n",
       "      <td>Find the product of the given polynomials in t...</td>\n",
       "      <td>2x^2 + 5</td>\n",
       "      <td>6x^2 + 4x + 6</td>\n",
       "      <td>0</td>\n",
       "      <td>x^2 + 1</td>\n",
       "      <td>B</td>\n",
       "      <td>abstract algebra</td>\n",
       "      <td>4</td>\n",
       "      <td>B</td>\n",
       "      <td>D</td>\n",
       "      <td>B</td>\n",
       "    </tr>\n",
       "    <tr>\n",
       "      <th>4</th>\n",
       "      <td>Statement 1 | If a group has an element of ord...</td>\n",
       "      <td>True, True</td>\n",
       "      <td>False, False</td>\n",
       "      <td>True, False</td>\n",
       "      <td>False, True</td>\n",
       "      <td>A</td>\n",
       "      <td>abstract algebra</td>\n",
       "      <td>5</td>\n",
       "      <td>A</td>\n",
       "      <td>C</td>\n",
       "      <td>A</td>\n",
       "    </tr>\n",
       "    <tr>\n",
       "      <th>...</th>\n",
       "      <td>...</td>\n",
       "      <td>...</td>\n",
       "      <td>...</td>\n",
       "      <td>...</td>\n",
       "      <td>...</td>\n",
       "      <td>...</td>\n",
       "      <td>...</td>\n",
       "      <td>...</td>\n",
       "      <td>...</td>\n",
       "      <td>...</td>\n",
       "      <td>...</td>\n",
       "    </tr>\n",
       "    <tr>\n",
       "      <th>11788</th>\n",
       "      <td>What has been a central focus of religious tra...</td>\n",
       "      <td>Peace and harmony</td>\n",
       "      <td>Power and influence</td>\n",
       "      <td>Truth and love</td>\n",
       "      <td>Wisdom and ethics</td>\n",
       "      <td>A</td>\n",
       "      <td>world religions</td>\n",
       "      <td>14037</td>\n",
       "      <td>A</td>\n",
       "      <td>C</td>\n",
       "      <td>A</td>\n",
       "    </tr>\n",
       "    <tr>\n",
       "      <th>11789</th>\n",
       "      <td>To whom did ordinary folk appeal during a dro...</td>\n",
       "      <td>The Buddha</td>\n",
       "      <td>Laozi</td>\n",
       "      <td>The Queen Mother of the West</td>\n",
       "      <td>Confucius</td>\n",
       "      <td>C</td>\n",
       "      <td>world religions</td>\n",
       "      <td>14038</td>\n",
       "      <td>A</td>\n",
       "      <td>D</td>\n",
       "      <td>A</td>\n",
       "    </tr>\n",
       "    <tr>\n",
       "      <th>11790</th>\n",
       "      <td>The theological term homoousios means which o...</td>\n",
       "      <td>of a similar substance</td>\n",
       "      <td>of the same substance</td>\n",
       "      <td>of like substance</td>\n",
       "      <td>of human substance</td>\n",
       "      <td>B</td>\n",
       "      <td>world religions</td>\n",
       "      <td>14039</td>\n",
       "      <td>B</td>\n",
       "      <td>D</td>\n",
       "      <td>B</td>\n",
       "    </tr>\n",
       "    <tr>\n",
       "      <th>11791</th>\n",
       "      <td>According to the Japanese origin myth, who giv...</td>\n",
       "      <td>Es</td>\n",
       "      <td>Izanagi</td>\n",
       "      <td>Izanami</td>\n",
       "      <td>Kami</td>\n",
       "      <td>B</td>\n",
       "      <td>world religions</td>\n",
       "      <td>14040</td>\n",
       "      <td>B</td>\n",
       "      <td>B</td>\n",
       "      <td>B</td>\n",
       "    </tr>\n",
       "    <tr>\n",
       "      <th>11792</th>\n",
       "      <td>The numen of Augustus referred to which of th...</td>\n",
       "      <td>Divine power</td>\n",
       "      <td>Sexual virility</td>\n",
       "      <td>Military acumen</td>\n",
       "      <td>Philosophical intellect</td>\n",
       "      <td>A</td>\n",
       "      <td>world religions</td>\n",
       "      <td>14041</td>\n",
       "      <td>A</td>\n",
       "      <td>D</td>\n",
       "      <td>A</td>\n",
       "    </tr>\n",
       "  </tbody>\n",
       "</table>\n",
       "<p>11793 rows × 11 columns</p>\n",
       "</div>"
      ]
     },
     "execution_count": 101,
     "metadata": {},
     "output_type": "execute_result"
    }
   ],
   "execution_count": 101
  },
  {
   "cell_type": "code",
   "id": "affc3746",
   "metadata": {
    "ExecuteTime": {
     "end_time": "2024-10-09T22:52:15.928292Z",
     "start_time": "2024-10-09T22:52:15.904695Z"
    }
   },
   "source": [
    "# C\n",
    "s_x_test_compare = df_ultimate['answer'] == df_ultimate['result_x']\n",
    "s_y_test_compare = df_ultimate['answer'] == df_ultimate['result_y']\n",
    "s_z_test_compare = df_ultimate['answer'] == df_ultimate['result_z']\n",
    "\n",
    "x_acc = s_x_test_compare.sum() / s_x_test_compare.count()\n",
    "y_acc = s_y_test_compare.sum() / s_y_test_compare.count()\n",
    "z_acc = s_z_test_compare.sum() / s_z_test_compare.count()\n",
    "\n",
    "print('Accuracy score of x :', x_acc)\n",
    "print('Accuracy score of y :', y_acc)\n",
    "print('Accuracy score of z :', z_acc)"
   ],
   "outputs": [
    {
     "name": "stdout",
     "output_type": "stream",
     "text": [
      "Accuracy score of x : 0.7665564317815653\n",
      "Accuracy score of y : 0.7470533367251759\n",
      "Accuracy score of z : 0.6620876791316883\n"
     ]
    }
   ],
   "execution_count": 117
  },
  {
   "cell_type": "markdown",
   "id": "292b2f61-0529-4b6d-a3a7-af786a4d79ae",
   "metadata": {},
   "source": [
    "## Task 2 (26 points): What do you mean A > D > B > C...?\n",
    "\n",
    "Nice work! Having successfully inspected, cleaned, and rebalanced the provided data, you head over to director of the government's NEUTRALITY project. Ms. Sakota is happy with your work so far, but worried that the sloppy intern might have done more undetected damage. To be sure, she orders a new set of evaluations of all models on both MMLU and another dataset.\n",
    "\n",
    "After cleaning up and rebalancing, you are left with the concatenated score files in the second folder `task_2`:\n",
    "```\n",
    "task_2/\n",
    "│\n",
    "└── lm_scores_mmlu.csv\n",
    "│\n",
    "└── lm_scores_other.csv\n",
    "```\n",
    "\n",
    "Each has a new column called `model_name`, which is one of `X, Y` or `Z`.\n",
    "\n",
    "\n",
    "\n",
    "_NOTE: **only** use data from `task_2` and `task_2_5` for this assignment! The values in `lm_scores_mmlu.csv` will NOT be the same as the dataframes you finished in task 1. This is due to \"randomness\" or \"temperature\" in language model inference. This can slightly shift around generative results. (Conveniently: it also ensures any mistakes made in Task 1 don't propogate further ;) )_"
   ]
  },
  {
   "cell_type": "code",
   "id": "a889a76b-e034-4d2f-929e-0ef1f250a0a0",
   "metadata": {
    "ExecuteTime": {
     "end_time": "2024-10-10T20:53:48.904929Z",
     "start_time": "2024-10-10T20:53:48.671582Z"
    }
   },
   "source": [
    "# PROVIDED CODE\n",
    "df_mmlu = pd.read_csv('task_2/lm_scores_mmlu.csv')\n",
    "df_other = pd.read_csv('task_2/lm_scores_other.csv')\n",
    "\n",
    "df_mmlu"
   ],
   "outputs": [
    {
     "data": {
      "text/plain": [
       "      result  question_id                                           question  \\\n",
       "0          B            0  Find the degree for the given field extension ...   \n",
       "1          C            1  Let p = (1, 2, 5, 4)(2, 3) in S_5 . Find the i...   \n",
       "2          D            2  Find all zeros in the indicated finite field o...   \n",
       "3          B            3  Statement 1 | A factor group of a non-Abelian ...   \n",
       "4          D            7  Statement 1 | A ring homomorphism is one to on...   \n",
       "...      ...          ...                                                ...   \n",
       "35083      A        14037  What has been a central focus of religious tra...   \n",
       "35084      C        14038   To whom did ordinary folk appeal during a dro...   \n",
       "35085      B        14039   The theological term homoousios means which o...   \n",
       "35086      B        14040  According to the Japanese origin myth, who giv...   \n",
       "35087      A        14041   The numen of Augustus referred to which of th...   \n",
       "\n",
       "                            A                      B  \\\n",
       "0                           0                      4   \n",
       "1                           8                      2   \n",
       "2                           0                      1   \n",
       "3                  True, True           False, False   \n",
       "4                  True, True           False, False   \n",
       "...                       ...                    ...   \n",
       "35083       Peace and harmony    Power and influence   \n",
       "35084              The Buddha                  Laozi   \n",
       "35085  of a similar substance  of the same substance   \n",
       "35086                      Es                Izanagi   \n",
       "35087            Divine power        Sexual virility   \n",
       "\n",
       "                                  C                        D answer  \\\n",
       "0                                 2                        6      B   \n",
       "1                                24                      120      C   \n",
       "2                               0,1                      0,4      D   \n",
       "3                       True, False              False, True      B   \n",
       "4                       True, False              False, True      D   \n",
       "...                             ...                      ...    ...   \n",
       "35083                Truth and love        Wisdom and ethics      A   \n",
       "35084  The Queen Mother of the West                Confucius      C   \n",
       "35085             of like substance       of human substance      B   \n",
       "35086                       Izanami                     Kami      B   \n",
       "35087               Military acumen  Philosophical intellect      A   \n",
       "\n",
       "                subject  correct model_name  \n",
       "0      abstract algebra     True          X  \n",
       "1      abstract algebra     True          X  \n",
       "2      abstract algebra     True          X  \n",
       "3      abstract algebra     True          X  \n",
       "4      abstract algebra     True          X  \n",
       "...                 ...      ...        ...  \n",
       "35083   world religions     True          Z  \n",
       "35084   world religions     True          Z  \n",
       "35085   world religions     True          Z  \n",
       "35086   world religions     True          Z  \n",
       "35087   world religions     True          Z  \n",
       "\n",
       "[35088 rows x 11 columns]"
      ],
      "text/html": [
       "<div>\n",
       "<style scoped>\n",
       "    .dataframe tbody tr th:only-of-type {\n",
       "        vertical-align: middle;\n",
       "    }\n",
       "\n",
       "    .dataframe tbody tr th {\n",
       "        vertical-align: top;\n",
       "    }\n",
       "\n",
       "    .dataframe thead th {\n",
       "        text-align: right;\n",
       "    }\n",
       "</style>\n",
       "<table border=\"1\" class=\"dataframe\">\n",
       "  <thead>\n",
       "    <tr style=\"text-align: right;\">\n",
       "      <th></th>\n",
       "      <th>result</th>\n",
       "      <th>question_id</th>\n",
       "      <th>question</th>\n",
       "      <th>A</th>\n",
       "      <th>B</th>\n",
       "      <th>C</th>\n",
       "      <th>D</th>\n",
       "      <th>answer</th>\n",
       "      <th>subject</th>\n",
       "      <th>correct</th>\n",
       "      <th>model_name</th>\n",
       "    </tr>\n",
       "  </thead>\n",
       "  <tbody>\n",
       "    <tr>\n",
       "      <th>0</th>\n",
       "      <td>B</td>\n",
       "      <td>0</td>\n",
       "      <td>Find the degree for the given field extension ...</td>\n",
       "      <td>0</td>\n",
       "      <td>4</td>\n",
       "      <td>2</td>\n",
       "      <td>6</td>\n",
       "      <td>B</td>\n",
       "      <td>abstract algebra</td>\n",
       "      <td>True</td>\n",
       "      <td>X</td>\n",
       "    </tr>\n",
       "    <tr>\n",
       "      <th>1</th>\n",
       "      <td>C</td>\n",
       "      <td>1</td>\n",
       "      <td>Let p = (1, 2, 5, 4)(2, 3) in S_5 . Find the i...</td>\n",
       "      <td>8</td>\n",
       "      <td>2</td>\n",
       "      <td>24</td>\n",
       "      <td>120</td>\n",
       "      <td>C</td>\n",
       "      <td>abstract algebra</td>\n",
       "      <td>True</td>\n",
       "      <td>X</td>\n",
       "    </tr>\n",
       "    <tr>\n",
       "      <th>2</th>\n",
       "      <td>D</td>\n",
       "      <td>2</td>\n",
       "      <td>Find all zeros in the indicated finite field o...</td>\n",
       "      <td>0</td>\n",
       "      <td>1</td>\n",
       "      <td>0,1</td>\n",
       "      <td>0,4</td>\n",
       "      <td>D</td>\n",
       "      <td>abstract algebra</td>\n",
       "      <td>True</td>\n",
       "      <td>X</td>\n",
       "    </tr>\n",
       "    <tr>\n",
       "      <th>3</th>\n",
       "      <td>B</td>\n",
       "      <td>3</td>\n",
       "      <td>Statement 1 | A factor group of a non-Abelian ...</td>\n",
       "      <td>True, True</td>\n",
       "      <td>False, False</td>\n",
       "      <td>True, False</td>\n",
       "      <td>False, True</td>\n",
       "      <td>B</td>\n",
       "      <td>abstract algebra</td>\n",
       "      <td>True</td>\n",
       "      <td>X</td>\n",
       "    </tr>\n",
       "    <tr>\n",
       "      <th>4</th>\n",
       "      <td>D</td>\n",
       "      <td>7</td>\n",
       "      <td>Statement 1 | A ring homomorphism is one to on...</td>\n",
       "      <td>True, True</td>\n",
       "      <td>False, False</td>\n",
       "      <td>True, False</td>\n",
       "      <td>False, True</td>\n",
       "      <td>D</td>\n",
       "      <td>abstract algebra</td>\n",
       "      <td>True</td>\n",
       "      <td>X</td>\n",
       "    </tr>\n",
       "    <tr>\n",
       "      <th>...</th>\n",
       "      <td>...</td>\n",
       "      <td>...</td>\n",
       "      <td>...</td>\n",
       "      <td>...</td>\n",
       "      <td>...</td>\n",
       "      <td>...</td>\n",
       "      <td>...</td>\n",
       "      <td>...</td>\n",
       "      <td>...</td>\n",
       "      <td>...</td>\n",
       "      <td>...</td>\n",
       "    </tr>\n",
       "    <tr>\n",
       "      <th>35083</th>\n",
       "      <td>A</td>\n",
       "      <td>14037</td>\n",
       "      <td>What has been a central focus of religious tra...</td>\n",
       "      <td>Peace and harmony</td>\n",
       "      <td>Power and influence</td>\n",
       "      <td>Truth and love</td>\n",
       "      <td>Wisdom and ethics</td>\n",
       "      <td>A</td>\n",
       "      <td>world religions</td>\n",
       "      <td>True</td>\n",
       "      <td>Z</td>\n",
       "    </tr>\n",
       "    <tr>\n",
       "      <th>35084</th>\n",
       "      <td>C</td>\n",
       "      <td>14038</td>\n",
       "      <td>To whom did ordinary folk appeal during a dro...</td>\n",
       "      <td>The Buddha</td>\n",
       "      <td>Laozi</td>\n",
       "      <td>The Queen Mother of the West</td>\n",
       "      <td>Confucius</td>\n",
       "      <td>C</td>\n",
       "      <td>world religions</td>\n",
       "      <td>True</td>\n",
       "      <td>Z</td>\n",
       "    </tr>\n",
       "    <tr>\n",
       "      <th>35085</th>\n",
       "      <td>B</td>\n",
       "      <td>14039</td>\n",
       "      <td>The theological term homoousios means which o...</td>\n",
       "      <td>of a similar substance</td>\n",
       "      <td>of the same substance</td>\n",
       "      <td>of like substance</td>\n",
       "      <td>of human substance</td>\n",
       "      <td>B</td>\n",
       "      <td>world religions</td>\n",
       "      <td>True</td>\n",
       "      <td>Z</td>\n",
       "    </tr>\n",
       "    <tr>\n",
       "      <th>35086</th>\n",
       "      <td>B</td>\n",
       "      <td>14040</td>\n",
       "      <td>According to the Japanese origin myth, who giv...</td>\n",
       "      <td>Es</td>\n",
       "      <td>Izanagi</td>\n",
       "      <td>Izanami</td>\n",
       "      <td>Kami</td>\n",
       "      <td>B</td>\n",
       "      <td>world religions</td>\n",
       "      <td>True</td>\n",
       "      <td>Z</td>\n",
       "    </tr>\n",
       "    <tr>\n",
       "      <th>35087</th>\n",
       "      <td>A</td>\n",
       "      <td>14041</td>\n",
       "      <td>The numen of Augustus referred to which of th...</td>\n",
       "      <td>Divine power</td>\n",
       "      <td>Sexual virility</td>\n",
       "      <td>Military acumen</td>\n",
       "      <td>Philosophical intellect</td>\n",
       "      <td>A</td>\n",
       "      <td>world religions</td>\n",
       "      <td>True</td>\n",
       "      <td>Z</td>\n",
       "    </tr>\n",
       "  </tbody>\n",
       "</table>\n",
       "<p>35088 rows × 11 columns</p>\n",
       "</div>"
      ]
     },
     "execution_count": 3,
     "metadata": {},
     "output_type": "execute_result"
    }
   ],
   "execution_count": 3
  },
  {
   "cell_type": "markdown",
   "id": "c31edde3-cc91-4d08-81c7-b5e98cf0ff9c",
   "metadata": {},
   "source": [
    "### 2.1 (4 pt)\n",
    "\n",
    "Let's explore the new results:\n",
    "\n",
    "A. Compute the mean accuracy and standard errors of each model on both datasets and print the results.\n",
    "\n",
    "B. Then, show your results in a bar plot using standard errors with a 95% confidence interval around the mean. Make sure the plot is easy to read and well annotated.\n",
    "\n",
    "C. /Discuss:/ the plot you created: (i) can you say that one of the models is the best? (ii) is there anything that seems odd?"
   ]
  },
  {
   "cell_type": "code",
   "id": "56fe8cca-acd1-4f5e-a938-e8d3a850f220",
   "metadata": {
    "ExecuteTime": {
     "end_time": "2024-10-10T20:53:54.459136Z",
     "start_time": "2024-10-10T20:53:54.423531Z"
    }
   },
   "source": [
    "# A\n",
    "df_mmlu_mean = df_mmlu.groupby(by='model_name', as_index=False)['correct'].mean()\n",
    "df_mmlu_mean.rename(columns={'correct': 'mean'}, inplace=True)\n",
    "\n",
    "df_mmlu_std = df_mmlu.groupby(by='model_name', as_index=False)['correct'].std()\n",
    "df_mmlu_std.rename(columns={'correct': 'std'}, inplace=True)\n",
    "\n",
    "df_other_mean = df_other.groupby(by='model_name', as_index=False)['correct'].mean()\n",
    "df_other_mean.rename(columns={'correct': 'mean'}, inplace=True)\n",
    "\n",
    "df_other_std = df_other.groupby(by='model_name', as_index=False)['correct'].std()\n",
    "df_other_std.rename(columns={'correct': 'std'}, inplace=True)\n",
    "\n",
    "print('For mmlu dataset :')\n",
    "print('Means/accuracies :', df_mmlu_mean)\n",
    "print('Stds :', df_mmlu_std)\n",
    "\n",
    "print('For other dataset :')\n",
    "print('Means/accuracies :', df_other_mean)\n",
    "print('Stds :', df_other_std)"
   ],
   "outputs": [
    {
     "name": "stdout",
     "output_type": "stream",
     "text": [
      "For mmlu dataset :\n",
      "Means/accuracies :   model_name      mean\n",
      "0          X  0.743588\n",
      "1          Y  0.761542\n",
      "2          Z  0.655951\n",
      "Stds :   model_name       std\n",
      "0          X  0.436671\n",
      "1          Y  0.426159\n",
      "2          Z  0.475078\n",
      "For other dataset :\n",
      "Means/accuracies :   model_name      mean\n",
      "0          X  0.787976\n",
      "1          Y  0.720936\n",
      "2          Z  0.671721\n",
      "Stds :   model_name       std\n",
      "0          X  0.408796\n",
      "1          Y  0.448599\n",
      "2          Z  0.469649\n"
     ]
    }
   ],
   "execution_count": 4
  },
  {
   "cell_type": "code",
   "id": "d3a176c6",
   "metadata": {
    "ExecuteTime": {
     "end_time": "2024-10-10T20:53:55.170666Z",
     "start_time": "2024-10-10T20:53:54.867713Z"
    }
   },
   "source": [
    "# B\n",
    "plt.bar(df_mmlu_mean['model_name'], df_mmlu_mean['mean'], yerr=1.96*df_mmlu_std['std'])\n",
    "plt.title('Accuracy over MMLU dataset with 95% CI')\n",
    "plt.show()\n",
    "\n",
    "plt.bar(df_other_mean['model_name'], df_other_mean['mean'], yerr=1.96*df_other_std['std'])\n",
    "plt.title('Accuracy over OTHER dataset with 95% CI')\n",
    "plt.show()"
   ],
   "outputs": [
    {
     "data": {
      "text/plain": [
       "<Figure size 640x480 with 1 Axes>"
      ],
      "image/png": "[encoded data removed]"
     },
     "metadata": {},
     "output_type": "display_data"
    },
    {
     "data": {
      "text/plain": [
       "<Figure size 640x480 with 1 Axes>"
      ],
      "image/png": "[encoded data removed]"
     },
     "metadata": {},
     "output_type": "display_data"
    }
   ],
   "execution_count": 5
  },
  {
   "cell_type": "markdown",
   "id": "65c9fbfe",
   "metadata": {},
   "source": [
    "C.\n",
    "(i) X performs best with the MMLU dataset while it is Y that performs best in the OTHER dataset. Z is not very competitive. We can not say which one between X and Y is better with strong confidence.\n",
    "\n",
    "(ii) The confidence interval is very odd... they extend way above 1 and under 0, even though we know that the values are 0 or 1 ! (for correct and incorrect respectively). This in fact is not surprising.\n",
    "We are not using continuous values but categorical values. It does not make sense to use the standard deviation, as the values can not be other than 1 and 0."
   ]
  },
  {
   "cell_type": "markdown",
   "id": "eee0ec62-f2d1-4bae-a6f6-221320d602cb",
   "metadata": {},
   "source": [
    "### 2.2 (5 pt)\n",
    "\n",
    "Ms. Sakota has assured you that both datasets contain questions of similar difficulty, so, what could be going on here?\n",
    "\n",
    "A. What is the distribution of correct answers (A, B, C, D) for each dataset? Create a bar chart to visualize this.\n",
    "\n",
    "B. Perform a chi-square test at $\\alpha = 0.05$, of independence to determine if there's a significant difference in the distribution of correct answers between the two datasets. What do you conclude?\n",
    "\n",
    "**hints**:\n",
    "- for (A), keep in mind that df_mmlu and df_other contain the results of all models, i.e., the `question_id` column is duplicated.\n",
    "- for (A), take care to clearly annotate the bar chart, e.g., title, y-label, legend.\n",
    "- for (B), clearly state the null hypothesis and alternative hypothesis\n",
    "- use the `chi2_contingency` function from `scipy.stats`\n",
    "- format your results from answer (A) as a 2D array"
   ]
  },
  {
   "cell_type": "code",
   "id": "30b16f70-93e0-4a19-8a6d-b3ae5a75ae65",
   "metadata": {
    "ExecuteTime": {
     "end_time": "2024-10-10T20:53:56.240601Z",
     "start_time": "2024-10-10T20:53:56.084614Z"
    }
   },
   "source": [
    "# A\n",
    "df_mmlu_correct_distr = df_mmlu.groupby(by='answer', as_index=False)['correct'].sum()\n",
    "df_other_correct_distr = df_other.groupby(by='answer', as_index=False)['correct'].sum()\n",
    "\n",
    "plt.bar(df_mmlu_correct_distr['answer'], df_mmlu_correct_distr['correct'], 0.6,  label='MMLU')\n",
    "plt.bar(df_other_correct_distr['answer'], df_other_correct_distr['correct'], 0.6, label='OTHER')\n",
    "plt.ylabel('Number of correct answers')\n",
    "plt.title('Distribution of correct answers')\n",
    "plt.legend()\n",
    "plt.show()"
   ],
   "outputs": [
    {
     "data": {
      "text/plain": [
       "<Figure size 640x480 with 1 Axes>"
      ],
      "image/png": "[encoded data removed]"
     },
     "metadata": {},
     "output_type": "display_data"
    }
   ],
   "execution_count": 6
  },
  {
   "metadata": {},
   "cell_type": "markdown",
   "source": [
    "#### B\n",
    "We state the null hypothesis $H_0$ as follows : \"There is not a significant difference in the distribution of correct answers between the two datasets, i.e. they are independent.\"<br>\n",
    "We perform the chi-square test with $ \\alpha = 0.05$ below :"
   ],
   "id": "24321ac39b9b115d"
  },
  {
   "metadata": {
    "ExecuteTime": {
     "end_time": "2024-10-10T20:53:56.853878Z",
     "start_time": "2024-10-10T20:53:56.845418Z"
    }
   },
   "cell_type": "code",
   "source": [
    "# B\n",
    "from scipy.stats import chi2_contingency\n",
    "\n",
    "table = np.array([df_mmlu_correct_distr['correct'].to_numpy(), df_other_correct_distr['correct'].to_numpy()])\n",
    "print('Contingency table :\\n', table)\n",
    "res = chi2_contingency(table)\n",
    "\n",
    "print('Statistic :', res.statistic)\n",
    "print('p-value :', res.pvalue)"
   ],
   "id": "e9a5932260a0559e",
   "outputs": [
    {
     "name": "stdout",
     "output_type": "stream",
     "text": [
      "Contingency table :\n",
      " [[3608 6264 7182 8222]\n",
      " [2458 2386 1942 1411]]\n",
      "Statistic : 1443.1619101339897\n",
      "p-value : 0.0\n"
     ]
    }
   ],
   "execution_count": 7
  },
  {
   "metadata": {},
   "cell_type": "markdown",
   "source": [
    "#### B\n",
    "We observe a p-value of 0.0 which is less than $\\alpha = 0.05$. <br> We reject the null hypothesis $H_0$ in favor of the alternative hypothesis $H_1$ : \"There is a significant difference in the distribution of correct answers between the two datasets.\" "
   ],
   "id": "d670c54c037b7c77"
  },
  {
   "cell_type": "markdown",
   "id": "2d3125ad-5a7e-44e7-999a-a0ff99855d39",
   "metadata": {},
   "source": [
    "### 2.3 (7 pt)\n",
    "\n",
    "Let's dive in deeper:\n",
    "\n",
    "A. What is language model X's mean accuracy conditioned on the four answer options for each dataset?\n",
    "\n",
    "B. Compare LM X's performance when the correct answer is \"A\" between the two datasets. Use a T-test with CI = 0.95. What do you conclude?\n",
    "\n",
    "C. Compare LM X's performance when the correct answer is \"A\" vs. \"C or D\" for each dataset. Use a T-test with CI = 0.95. What do you conclude?"
   ]
  },
  {
   "cell_type": "code",
   "id": "39097a11-8efe-46d1-8bc3-5587bb58d199",
   "metadata": {
    "ExecuteTime": {
     "end_time": "2024-10-10T20:53:59.025007Z",
     "start_time": "2024-10-10T20:53:59.002028Z"
    }
   },
   "source": [
    "# A\n",
    "df_x_means_mmlu = df_mmlu[df_mmlu['model_name'] == 'X'].groupby(by='answer', as_index=False)['correct'].mean()\n",
    "df_x_means_other = df_other[df_other['model_name'] == 'X'].groupby(by='answer', as_index=False)['correct'].mean()\n",
    "\n",
    "print(df_x_means_mmlu)\n",
    "print(df_x_means_other)"
   ],
   "outputs": [
    {
     "name": "stdout",
     "output_type": "stream",
     "text": [
      "  answer   correct\n",
      "0      A  0.972688\n",
      "1      B  0.799185\n",
      "2      C  0.707905\n",
      "3      D  0.633592\n",
      "  answer   correct\n",
      "0      A  0.974026\n",
      "1      B  0.806452\n",
      "2      C  0.676407\n",
      "3      D  0.603744\n"
     ]
    }
   ],
   "execution_count": 8
  },
  {
   "cell_type": "code",
   "id": "82a2032e4edb7013",
   "metadata": {
    "ExecuteTime": {
     "end_time": "2024-10-10T20:53:59.765360Z",
     "start_time": "2024-10-10T20:53:59.738883Z"
    }
   },
   "source": [
    "# B\n",
    "df_x_for_A_mmlu = df_mmlu[(df_mmlu['answer'] == 'A') * (df_mmlu['model_name'] == 'X')]['correct']\n",
    "df_x_for_A_other = df_other[(df_other['answer'] == 'A') * (df_other['model_name'] == 'X')]['correct']\n",
    "\n",
    "print('Mean performance for x on A correct answers over mmlu :', df_x_for_A_mmlu.mean())\n",
    "print('Mean performance for x on A correct answers over other :', df_x_for_A_other.mean())"
   ],
   "outputs": [
    {
     "name": "stdout",
     "output_type": "stream",
     "text": [
      "Mean performance for x on A correct answers over mmlu : 0.9726877715704532\n",
      "Mean performance for x on A correct answers over other : 0.974025974025974\n"
     ]
    }
   ],
   "execution_count": 9
  },
  {
   "metadata": {},
   "cell_type": "markdown",
   "source": [
    "\n",
    "#### B\n",
    "We denote our null hypothesis as follows $H_0$ : \"The samples of answers of LM x over questions with answer A over mmlu and over other come from same population means\" <br>\n",
    "We perform the t-test with $\\alpha = 0.05$ below:\n"
   ],
   "id": "f8fc42c285a941a6"
  },
  {
   "metadata": {
    "ExecuteTime": {
     "end_time": "2024-10-10T20:54:00.764927Z",
     "start_time": "2024-10-10T20:54:00.745995Z"
    }
   },
   "cell_type": "code",
   "source": [
    "result = ttest_ind(df_x_for_A_mmlu, df_x_for_A_other)\n",
    "\n",
    "print('Statistic :', result.statistic)\n",
    "print('p-value :', result.pvalue)"
   ],
   "id": "9ae67c09",
   "outputs": [
    {
     "name": "stdout",
     "output_type": "stream",
     "text": [
      "Statistic : -0.21059510911432247\n",
      "p-value : 0.8332191972699248\n"
     ]
    }
   ],
   "execution_count": 10
  },
  {
   "metadata": {},
   "cell_type": "markdown",
   "source": "As $\\text{p-value} > \\alpha$, we do not reject the null hypothesis with a 95% CI.",
   "id": "894c0e9f77cc84c5"
  },
  {
   "metadata": {
    "ExecuteTime": {
     "end_time": "2024-10-10T20:54:01.868293Z",
     "start_time": "2024-10-10T20:54:01.831932Z"
    }
   },
   "cell_type": "code",
   "source": [
    "# c\n",
    "df_x_for_A_mmlu = df_mmlu[(df_mmlu['answer'] == 'A') * (df_mmlu['model_name'] == 'X')]['correct']\n",
    "df_x_for_CorD_mmlu = df_mmlu[((df_mmlu['answer'] == 'C') + (df_mmlu['answer'] == 'D')) * (df_mmlu['model_name'] == 'X')]['correct']\n",
    "\n",
    "df_x_for_A_other = df_other[(df_other['answer'] == 'A') * (df_other['model_name'] == 'X')]['correct']\n",
    "df_x_for_CorD_other = df_other[((df_other['answer'] == 'C') + (df_other['answer'] == 'D')) * (df_other['model_name'] == 'X')]['correct']\n",
    "\n",
    "print('Mean performance for x on A correct answers over mmlu :', df_x_for_A_mmlu.mean())\n",
    "print('Mean performance for x on C or D correct answers over mmlu :', df_x_for_CorD_mmlu.mean())\n",
    "print()\n",
    "print('Mean performance for x on A correct answers over other :', df_x_for_A_other.mean())\n",
    "print('Mean performance for x on C or D correct answers over other :', df_x_for_CorD_other.mean())\n"
   ],
   "id": "97f267b2978f5217",
   "outputs": [
    {
     "name": "stdout",
     "output_type": "stream",
     "text": [
      "Mean performance for x on A correct answers over mmlu : 0.9726877715704532\n",
      "Mean performance for x on C or D correct answers over mmlu : 0.669000280033604\n",
      "\n",
      "Mean performance for x on A correct answers over other : 0.974025974025974\n",
      "Mean performance for x on C or D correct answers over other : 0.6466453674121406\n"
     ]
    }
   ],
   "execution_count": 11
  },
  {
   "metadata": {},
   "cell_type": "markdown",
   "source": [
    "#### C\n",
    "We denote our null hypothesis as follows for each dataset : <br>\n",
    "$H^{mmlu}_0$ : \"The samples of answers for LM x over the mmlu dataset over questions with answer A and over questions with answer C or D come from same population means\" <br>\n",
    "$H^{other}_0$ : \"The samples of answers for LM x over the other dataset over questions with answer A and over questions with answer C or D come from same population means\" <br>\n",
    "\n",
    "We perform the t-test for both hypothesis with $\\alpha = 0.05$ below:\n"
   ],
   "id": "d1504a19bd45e954"
  },
  {
   "metadata": {
    "ExecuteTime": {
     "end_time": "2024-10-10T20:54:03.292348Z",
     "start_time": "2024-10-10T20:54:03.282972Z"
    }
   },
   "cell_type": "code",
   "source": [
    "result = ttest_ind(df_x_for_A_mmlu, df_x_for_CorD_mmlu)\n",
    "print('Statistic for mmlu:', result.statistic)\n",
    "print('p-value for mmlu:', result.pvalue)\n",
    "\n",
    "print()\n",
    "\n",
    "result = ttest_ind(df_x_for_A_other, df_x_for_CorD_other)\n",
    "print('Statistic for other:', result.statistic)\n",
    "print('p-value for other:', result.pvalue)"
   ],
   "id": "cc8fbc6fb881e869",
   "outputs": [
    {
     "name": "stdout",
     "output_type": "stream",
     "text": [
      "Statistic for mmlu: 25.556410645761325\n",
      "p-value for mmlu: 5.334906497224946e-139\n",
      "\n",
      "Statistic for other: 21.66703250957516\n",
      "p-value for other: 5.900859805611251e-96\n"
     ]
    }
   ],
   "execution_count": 12
  },
  {
   "metadata": {},
   "cell_type": "markdown",
   "source": [
    "#### C\n",
    "For mmlu, as $\\text{p-value} < \\alpha$, we reject the null hypothesis with a 95% CI in favor for the alternative hypothesis. <br>\n",
    "For other, as $\\text{p-value} < \\alpha$, we reject the null hypothesis with a 95% CI in favor for the alternative hypothesis. <br>\n",
    "(we even reject the null hypothesis with a 99% CI)"
   ],
   "id": "844d05f254bfb3b6"
  },
  {
   "cell_type": "markdown",
   "id": "33848ff9-2604-4e48-b5df-3207dc81e9a9",
   "metadata": {},
   "source": [
    "### 2.4 (2 pt)\n",
    "\n",
    "What an intriguing finding! \n",
    "\n",
    "A. Print the mean accuracies conditioned on the correct answer for all LMs for each dataset.\n",
    "\n",
    "B. /Discuss:/ What do you observe?"
   ]
  },
  {
   "cell_type": "code",
   "id": "ec53ce2c-866e-440a-ac79-7813cb756782",
   "metadata": {
    "ExecuteTime": {
     "end_time": "2024-10-10T20:54:04.924331Z",
     "start_time": "2024-10-10T20:54:04.898818Z"
    }
   },
   "source": [
    "# A\n",
    "df_mmlu_per_answers = df_mmlu.groupby(by=['model_name', 'answer'], as_index=False)['correct'].mean()\n",
    "df_other_per_answers = df_other.groupby(by=['model_name', 'answer'], as_index=False)['correct'].mean()\n",
    "\n",
    "print('For mmlu :\\n', df_mmlu_per_answers)\n",
    "print()\n",
    "print('For other :\\n', df_other_per_answers)"
   ],
   "outputs": [
    {
     "name": "stdout",
     "output_type": "stream",
     "text": [
      "For mmlu :\n",
      "    model_name answer   correct\n",
      "0           X      A  0.972688\n",
      "1           X      B  0.799185\n",
      "2           X      C  0.707905\n",
      "3           X      D  0.633592\n",
      "4           Y      A  0.623836\n",
      "5           Y      B  0.688073\n",
      "6           Y      C  0.733470\n",
      "7           Y      D  0.904252\n",
      "8           Z      A  0.643079\n",
      "9           Z      B  0.641182\n",
      "10          Z      C  0.669115\n",
      "11          Z      D  0.661139\n",
      "\n",
      "For other :\n",
      "    model_name answer   correct\n",
      "0           X      A  0.974026\n",
      "1           X      B  0.806452\n",
      "2           X      C  0.676407\n",
      "3           X      D  0.603744\n",
      "4           Y      A  0.625232\n",
      "5           Y      B  0.663978\n",
      "6           Y      C  0.762987\n",
      "7           Y      D  0.920437\n",
      "8           Z      A  0.680891\n",
      "9           Z      B  0.667563\n",
      "10          Z      C  0.662338\n",
      "11          Z      D  0.677067\n"
     ]
    }
   ],
   "execution_count": 13
  },
  {
   "cell_type": "markdown",
   "id": "4ce58e47",
   "metadata": {},
   "source": [
    "#### B\n",
    "We convince ourselves that the result of the tests and the information of the data matches.<br><br>\n",
    "For the first $\\text{t-test}$, we did not reject the null hypothesis, that the correct answers for each dataset on questions with answer A have same population mean. If we look at the performance of LM x over questions with answer A for both datasets, we see that both mean performance is close, suggesting that the population means are equal or very close.<br><br>\n",
    "For the second $\\text{t-test}$, we did reject the null hypothesis in both cases, that the correct answers on questions A and questions C or D in same dataset have same population means. If we look at the performance of LM x over questions A and C or D in both dataset, we see that the mean performance are quite different, suggesting that the population means are different."
   ]
  },
  {
   "cell_type": "markdown",
   "id": "ccdd9d3c-5a03-4b30-84f7-a7dfbee1373e",
   "metadata": {},
   "source": [
    "### 2.5 (2 pt)\n",
    "\n",
    "Concerned with your findings so far, you quickly consult with Ms. Sakota. After thinking it over, Ms. Sakota concludes that more tests are needed. She orders a second round of MMLU results. However, the clever Ms. Sakota thinks of the following twist: while keeping questions fixed, she randomly permutes the position of the correct answer. The new results can be found in the folder `data/task_2_5/`:\n",
    "```\n",
    "task_2_5/\n",
    "│\n",
    "└── lm_scores_mmlu_shuffle.csv\n",
    "```\n",
    "\n",
    "/Discuss:/ Why would Ms. Sakota do this?"
   ]
  },
  {
   "cell_type": "markdown",
   "id": "64cc586a",
   "metadata": {},
   "source": [
    "/Discuss:/\n",
    "It could be that most correct answers were positioned under the A letter, training the model to answer A more frequently instead of \"thinking\" by itself. By randomly permuting the correct answers over the four letter, Ms. Sakota ensures know that our computed scores evaluate better the \"intelligence\" of each model. "
   ]
  },
  {
   "cell_type": "markdown",
   "id": "b9150ae0-dbaa-4c88-bf80-ec03127c6945",
   "metadata": {},
   "source": [
    "### 2.6 (4 pt)\n",
    "\n",
    "Increasingly sceptical of the language models' performance, you read up on proper testing practices. You stumble upon the concept of [test-rested stability](https://en.wikipedia.org/wiki/Repeatability), which roughtly states that:\n",
    "\n",
    "\"_Measurements taken by a single person or instrument on the same item, under the same conditions, and in a short period of time, should have the same results._\"\n",
    "\n",
    "In our case, we would assume an LM would have the same performance on a given question regardless of the correct answer position. One way of testing this is by using the following metric:\n",
    "\n",
    "$$\\text{test-retest metric} = \\frac{1}{N}\\sum_{i=1}^N \\frac{1}{M}\\sum_{j=1}^M c^i_0 c_j^i,$$\n",
    "\n",
    "where $c^i_0 \\in \\{0, 1\\}$ indicates whether the model answers the $i^{\\text{th}}$ question correctly (1 if correct, 0 if incorrect). $c_j^i$ indicates whether the model answers the $i^{\\text{th}}$ question correctly in the $j^{\\text{th}}$ shuffled version of the answer label content. Finally, $M$ is the total number of shuffles and $N$ is the dataset size.\n",
    "\n",
    "Task: compute the test-retest metric for each language model using the original `lm_scores_mmlu.csv` file and the new `lm_scores_mmlu_shuffle.csv` file. Using a bar plot, visualize your results by comparing the accuracy of the original `lm_scores_mmlu.csv` and the test-retest scores.\n",
    "\n",
    "**hints**\n",
    "- what is $M$ in our case?\n",
    "\n",
    "(bonus: no points, but so much sweet, sweet knowledge - check out [the following article](https://arxiv.org/pdf/2406.19470v1))"
   ]
  },
  {
   "metadata": {},
   "cell_type": "markdown",
   "source": [
    "As Ms. Sakota permuted once the whole dataset, giving the $\\text{lm scores mmlu shuffle}$ dataset, $M = 1$ in our case.<br>\n",
    "The formula becomes  : $$\\text{test-retest metric} = \\frac{1}{N}\\sum_{i=1}^N c^i_0 c_1^i$$"
   ],
   "id": "8876a64d247a1d30"
  },
  {
   "cell_type": "code",
   "id": "5b55fcfc-6de9-4cd3-bf2d-bde399ae2fbc",
   "metadata": {
    "ExecuteTime": {
     "end_time": "2024-10-10T20:54:09.868267Z",
     "start_time": "2024-10-10T20:54:09.692575Z"
    }
   },
   "source": [
    "df_mmlu_shuffled = pd.read_csv('task_2_5/lm_scores_mmlu_shuffle.csv')\n",
    "df_mmlu_both_correct = (df_mmlu.groupby(by='model_name', as_index=False)['correct'] and df_mmlu_shuffled.groupby(by='model_name', as_index=False)['correct']).mean()\n",
    "df_mmlu_both_correct.rename(columns={'correct': 'mean'}, inplace=True)\n",
    "df_mmlu_both_correct"
   ],
   "outputs": [
    {
     "data": {
      "text/plain": [
       "  model_name      mean\n",
       "0          X  0.783088\n",
       "1          Y  0.740253\n",
       "2          Z  0.666040"
      ],
      "text/html": [
       "<div>\n",
       "<style scoped>\n",
       "    .dataframe tbody tr th:only-of-type {\n",
       "        vertical-align: middle;\n",
       "    }\n",
       "\n",
       "    .dataframe tbody tr th {\n",
       "        vertical-align: top;\n",
       "    }\n",
       "\n",
       "    .dataframe thead th {\n",
       "        text-align: right;\n",
       "    }\n",
       "</style>\n",
       "<table border=\"1\" class=\"dataframe\">\n",
       "  <thead>\n",
       "    <tr style=\"text-align: right;\">\n",
       "      <th></th>\n",
       "      <th>model_name</th>\n",
       "      <th>mean</th>\n",
       "    </tr>\n",
       "  </thead>\n",
       "  <tbody>\n",
       "    <tr>\n",
       "      <th>0</th>\n",
       "      <td>X</td>\n",
       "      <td>0.783088</td>\n",
       "    </tr>\n",
       "    <tr>\n",
       "      <th>1</th>\n",
       "      <td>Y</td>\n",
       "      <td>0.740253</td>\n",
       "    </tr>\n",
       "    <tr>\n",
       "      <th>2</th>\n",
       "      <td>Z</td>\n",
       "      <td>0.666040</td>\n",
       "    </tr>\n",
       "  </tbody>\n",
       "</table>\n",
       "</div>"
      ]
     },
     "execution_count": 14,
     "metadata": {},
     "output_type": "execute_result"
    }
   ],
   "execution_count": 14
  },
  {
   "metadata": {
    "ExecuteTime": {
     "end_time": "2024-10-10T20:55:32.266430Z",
     "start_time": "2024-10-10T20:55:32.110318Z"
    }
   },
   "cell_type": "code",
   "source": [
    "plt.bar(df_mmlu_mean['model_name'], df_mmlu_mean['mean'], align='center', width=0.5, label='original')\n",
    "plt.bar(df_mmlu_both_correct['model_name'], df_mmlu_both_correct['mean'], align='edge', width=0.5, label='test_retest')\n",
    "plt.title('Accuracies over MMLU dataset')\n",
    "plt.legend()\n",
    "plt.show()"
   ],
   "id": "b51c42c0d370eac9",
   "outputs": [
    {
     "data": {
      "text/plain": [
       "<Figure size 640x480 with 1 Axes>"
      ],
      "image/png": "[encoded data removed]"
     },
     "metadata": {},
     "output_type": "display_data"
    }
   ],
   "execution_count": 18
  },
  {
   "cell_type": "markdown",
   "id": "b70bee6e-0c81-4f5a-b1a8-16a96aa2ae17",
   "metadata": {},
   "source": [
    "### 2.7 (2 pt)\n",
    "\n",
    "A. Using the unshuffled data: For each LM, print the distribution of the answers they give as well as the accuracy conditioned on the answer they give.\n",
    "\n",
    "B. /Discuss:/ Describe what you observe\n",
    "\n",
    "[bonus: not scored, but again _that sweet, sweet knowledge_] Could you think of a plausible explanation?"
   ]
  },
  {
   "cell_type": "code",
   "id": "4956581b-d047-46cb-ae71-1508a9a0b466",
   "metadata": {
    "ExecuteTime": {
     "end_time": "2024-10-10T21:20:47.820856Z",
     "start_time": "2024-10-10T21:20:47.791890Z"
    }
   },
   "source": [
    "# A\n",
    "\"\"\"\n",
    "df_mmlu_results = df_mmlu.groupby(by=['model_name', 'result'], as_index=False).count()\n",
    "df_mmlu_results = df_mmlu_results[['model_name', 'result', 'question_id']]\n",
    "df_mmlu_results.rename(columns={'question_id': 'count'}, inplace=True)\n",
    "df_mmlu_results\"\"\"\n",
    "\n",
    "df_mmlu_results = df_mmlu.groupby(by=['model_name', 'result'], as_index=False).agg({\n",
    "    'question_id': 'count',\n",
    "    'correct': 'mean'\n",
    "})\n",
    "df_mmlu_results"
   ],
   "outputs": [
    {
     "data": {
      "text/plain": [
       "   model_name result  question_id   correct\n",
       "0           X      A         4259  0.367927\n",
       "1           X      B         2659  0.884543\n",
       "2           X      C         2409  1.000000\n",
       "3           X      D         2369  1.000000\n",
       "4           Y      A         1072  0.937500\n",
       "5           Y      B         2256  0.897606\n",
       "6           Y      C         3015  0.827861\n",
       "7           Y      D         5353  0.631608\n",
       "8           Z      A         2176  0.476103\n",
       "9           Z      B         2885  0.654073\n",
       "10          Z      C         3237  0.703429\n",
       "11          Z      D         3398  0.727487"
      ],
      "text/html": [
       "<div>\n",
       "<style scoped>\n",
       "    .dataframe tbody tr th:only-of-type {\n",
       "        vertical-align: middle;\n",
       "    }\n",
       "\n",
       "    .dataframe tbody tr th {\n",
       "        vertical-align: top;\n",
       "    }\n",
       "\n",
       "    .dataframe thead th {\n",
       "        text-align: right;\n",
       "    }\n",
       "</style>\n",
       "<table border=\"1\" class=\"dataframe\">\n",
       "  <thead>\n",
       "    <tr style=\"text-align: right;\">\n",
       "      <th></th>\n",
       "      <th>model_name</th>\n",
       "      <th>result</th>\n",
       "      <th>question_id</th>\n",
       "      <th>correct</th>\n",
       "    </tr>\n",
       "  </thead>\n",
       "  <tbody>\n",
       "    <tr>\n",
       "      <th>0</th>\n",
       "      <td>X</td>\n",
       "      <td>A</td>\n",
       "      <td>4259</td>\n",
       "      <td>0.367927</td>\n",
       "    </tr>\n",
       "    <tr>\n",
       "      <th>1</th>\n",
       "      <td>X</td>\n",
       "      <td>B</td>\n",
       "      <td>2659</td>\n",
       "      <td>0.884543</td>\n",
       "    </tr>\n",
       "    <tr>\n",
       "      <th>2</th>\n",
       "      <td>X</td>\n",
       "      <td>C</td>\n",
       "      <td>2409</td>\n",
       "      <td>1.000000</td>\n",
       "    </tr>\n",
       "    <tr>\n",
       "      <th>3</th>\n",
       "      <td>X</td>\n",
       "      <td>D</td>\n",
       "      <td>2369</td>\n",
       "      <td>1.000000</td>\n",
       "    </tr>\n",
       "    <tr>\n",
       "      <th>4</th>\n",
       "      <td>Y</td>\n",
       "      <td>A</td>\n",
       "      <td>1072</td>\n",
       "      <td>0.937500</td>\n",
       "    </tr>\n",
       "    <tr>\n",
       "      <th>5</th>\n",
       "      <td>Y</td>\n",
       "      <td>B</td>\n",
       "      <td>2256</td>\n",
       "      <td>0.897606</td>\n",
       "    </tr>\n",
       "    <tr>\n",
       "      <th>6</th>\n",
       "      <td>Y</td>\n",
       "      <td>C</td>\n",
       "      <td>3015</td>\n",
       "      <td>0.827861</td>\n",
       "    </tr>\n",
       "    <tr>\n",
       "      <th>7</th>\n",
       "      <td>Y</td>\n",
       "      <td>D</td>\n",
       "      <td>5353</td>\n",
       "      <td>0.631608</td>\n",
       "    </tr>\n",
       "    <tr>\n",
       "      <th>8</th>\n",
       "      <td>Z</td>\n",
       "      <td>A</td>\n",
       "      <td>2176</td>\n",
       "      <td>0.476103</td>\n",
       "    </tr>\n",
       "    <tr>\n",
       "      <th>9</th>\n",
       "      <td>Z</td>\n",
       "      <td>B</td>\n",
       "      <td>2885</td>\n",
       "      <td>0.654073</td>\n",
       "    </tr>\n",
       "    <tr>\n",
       "      <th>10</th>\n",
       "      <td>Z</td>\n",
       "      <td>C</td>\n",
       "      <td>3237</td>\n",
       "      <td>0.703429</td>\n",
       "    </tr>\n",
       "    <tr>\n",
       "      <th>11</th>\n",
       "      <td>Z</td>\n",
       "      <td>D</td>\n",
       "      <td>3398</td>\n",
       "      <td>0.727487</td>\n",
       "    </tr>\n",
       "  </tbody>\n",
       "</table>\n",
       "</div>"
      ]
     },
     "execution_count": 45,
     "metadata": {},
     "output_type": "execute_result"
    }
   ],
   "execution_count": 45
  },
  {
   "cell_type": "markdown",
   "id": "65639228",
   "metadata": {},
   "source": "B. /Discuss:/\n"
  },
  {
   "cell_type": "markdown",
   "id": "ce3186fe-ef8e-4af3-9a07-a6081d454e5a",
   "metadata": {},
   "source": [
    "## Task 3 (16 points): What do Questions and Answers look like for a Language Model?\n",
    "\n",
    "While you feel pretty good about the tests you conducted so far, something still bothers you: what if the language models don't see the data like you do? Suddenly, you receive a phone call from a wise AI sage in the West, _Westoda_:\n",
    "\n",
    "```\n",
    "\"Hmm, correct you are, young padawan, to question how the world is seen by large language models! Simple 'text' it is not, hmm? No, no, no! Characters and words, the way of puny humans, this is not, heh heh heh.\n",
    "\n",
    "'Tokens', they use, yes! Mysterious and powerful, these tokens are. Expand our vocabulary, they do, beyond the simple 'a to Z'. Chunky blocks of text, they become, yes! 'Hello world', a simple phrase it may seem. But to a language model, '[24912, 2375]' it might appear, yes! Confusing, it is, hmm?\n",
    "\n",
    "Wise, it would be, to explore these MMLU data points through the eyes of a language model, you think? Yes, yes! Much to learn, there is. The ways of the tokens, understand you must, if truly comprehend the great LMs, you wish to.\n",
    "Meditate on this, you should. The force of natural language processing, strong it is. But patience, you must have, my young padawan. For only through great study and contemplation, will the mysteries of the tokens reveal themselves to you, they will. Yes, hmmm!\"\n",
    "```\n",
    "\n",
    "Admittingly, Westoda at times speaks in riddles… However, he was explaining a crucial aspect of modern LMs called [Tokenization](https://learn.microsoft.com/en-us/dotnet/ai/conceptual/understanding-tokens):\n",
    "\n",
    "\n",
    "“Tokens are words, character sets, or combinations of words and punctuation that are used by [language models (LMs)] to decompose text into. Tokenization is the first step in training”\n",
    "\n",
    "Instead of characters, LMs process natural language using “tokens”. While this is useful for a number of reasons, it does at times introduce some “unintuitive” behavior…"
   ]
  },
  {
   "cell_type": "code",
   "execution_count": null,
   "id": "e2c66517-938b-4331-9eea-1b23fe4ad9e7",
   "metadata": {},
   "outputs": [],
   "source": [
    "# PROVIDED CODE\n",
    "\n",
    "try:\n",
    "    import tiktoken\n",
    "except Exception as e:\n",
    "    print('installing tiktoken package')\n",
    "    \n",
    "    !pip install tiktoken\n",
    "    \n",
    "    import tiktoken\n",
    "\n",
    "def tokenize_text(s):\n",
    "    enc = tiktoken.encoding_for_model('gpt-4o')\n",
    "    tokens = enc.encode(str(s))\n",
    "    return tokens\n",
    "\n",
    "example_string = 'hello world'\n",
    "print(f'humans see: \"{example_string}\" --> language models see: {tokenize_text(example_string)}')"
   ]
  },
  {
   "cell_type": "markdown",
   "id": "3c8019ee-7d52-496f-afff-c96f2f9db08c",
   "metadata": {},
   "source": [
    "### 3.1 (5 pt)\n",
    "\n",
    "Use the provided code in the cell above to \"see the world through the eyes of a language model\":\n",
    "\n",
    "A. Tokenize the questions of the original MMLU data provided in task 1: `task_1/mmlu_data/test.csv` and plot the token distribution (the frequency of each token).\n",
    "\n",
    "B. Same as (A), but now for the answers in columns (columns \"A\", \"B\", \"C\", and \"D\").\n",
    "\n",
    "C. Isolate the tokens for the strings \"A\", \"B\", \"C\", and \"D\", then, for their occurances in both questions and answers, print their relative distribution to each other.\n",
    "\n",
    "**hint**\n",
    "- There are a _lot_ of tokens, consider using a cutoff point and log scale\n",
    "- For (c), they should sum to 1"
   ]
  },
  {
   "cell_type": "code",
   "execution_count": null,
   "id": "a9a1e97b-3a31-41b1-a9c3-fb84cb1740d9",
   "metadata": {},
   "outputs": [],
   "source": [
    "# A"
   ]
  },
  {
   "cell_type": "code",
   "execution_count": null,
   "id": "fe1f8be8",
   "metadata": {},
   "outputs": [],
   "source": [
    "# B"
   ]
  },
  {
   "cell_type": "code",
   "execution_count": null,
   "id": "cd392df7",
   "metadata": {},
   "outputs": [],
   "source": [
    "# C"
   ]
  },
  {
   "cell_type": "markdown",
   "id": "a674929c-68e1-4cd8-97b3-efa0cdae4874",
   "metadata": {},
   "source": [
    "### 3.2 (3 pt)\n",
    "\n",
    "What if the number of \"A\", \"B\", \"C\", and \"D\" tokens in the question and answer pairs could influence a language model's decisions?\n",
    "\n",
    "A. For each combined question-answers pair, compute: \n",
    "1. the number of \"A\", \"B\", \"C\", and \"D\" tokens; and\n",
    "2. the total number of tokens.\n",
    "3. then, group by the \"correct\" answer and compute the mean frequency of A, B, C, and D tokens and the total number of tokens. \n",
    "4. finally, print your results\n",
    "\n",
    "B. /Discuss:/ What do you think of the hypothesis that the frequency of A, B, C, and D tokens could influence answers?\n"
   ]
  },
  {
   "cell_type": "code",
   "execution_count": null,
   "id": "25419cc1-f058-4c51-a0aa-577272b8b578",
   "metadata": {},
   "outputs": [],
   "source": [
    "# A"
   ]
  },
  {
   "cell_type": "markdown",
   "id": "3ea8a279",
   "metadata": {},
   "source": [
    "B. /Discuss:/"
   ]
  },
  {
   "cell_type": "markdown",
   "id": "af25ef95-d2ce-4112-87f7-8b0a52755e2a",
   "metadata": {},
   "source": [
    "### 3.3 (4 pt)\n",
    "\n",
    "Three of the most important considerations when deciding between language models are:\n",
    "\n",
    "Quality\n",
    "Costs\n",
    "Speed\n",
    "\n",
    "So far, much of your analysis has focused on quality. However, the government has indicated that they are quite concerned about both the total costs and speed as well. Specifically, it has been brought to their attention that a new `turbo` model has been launched! \n",
    "\n",
    "This model is both cheaper and faster than the models you evaluated so far. However, there is a catch: the context length* is much smaller than that of the other LMS. Namely, it can only process **300** tokens during inference. Meanwhile, the other models can process up to 100K tokens! \n",
    "\n",
    "*_The “context length” refers to the number of tokens that can be given to an LM as input._\n",
    "\n",
    "A. Are there subjects where using the cheaper model might be problematic? I.e., where part of the question and answer(s) might not fit completely in the context?\n",
    "\n",
    "B. /Discuss:/ Can you think of a strategy that would balance the needs of the government?\n",
    "\n",
    "**hint**:\n",
    "- An LM needs to have both the question and the different answer options in its context"
   ]
  },
  {
   "cell_type": "code",
   "execution_count": null,
   "id": "a88a6fa3-2735-44d7-9944-076cc9f679ed",
   "metadata": {},
   "outputs": [],
   "source": [
    "# A"
   ]
  },
  {
   "cell_type": "markdown",
   "id": "47f8a44a",
   "metadata": {},
   "source": [
    "B. /Dicsuss:/"
   ]
  },
  {
   "cell_type": "markdown",
   "id": "110f07bf-558f-467c-8f66-d88db561d455",
   "metadata": {},
   "source": [
    "### 3.4 (4 pt)\n",
    "\n",
    "/Discuss:/ The time has come to give your final recommendation on the use of LMs in education to the government! Taking into account everything you analyzed in all the preceding tasks (1, 2, and 3), please write a short recommendation consisting of 4 bullet points discussing your concerns.\n",
    "\n",
    "**hint**\n",
    "- Try to use the MECE framework: _Mutually Exclusive Collectively Exhaustive_"
   ]
  },
  {
   "cell_type": "markdown",
   "id": "434a5fa5",
   "metadata": {},
   "source": [
    "/Discuss:/\n",
    "1. \n",
    "\n",
    "2. \n",
    "\n",
    "3. \n",
    "\n",
    "4. "
   ]
  }
 ],
 "metadata": {
  "kernelspec": {
   "display_name": "Python 3 (ipykernel)",
   "language": "python",
   "name": "python3"
  },
  "language_info": {
   "codemirror_mode": {
    "name": "ipython",
    "version": 3
   },
   "file_extension": ".py",
   "mimetype": "text/x-python",
   "name": "python",
   "nbconvert_exporter": "python",
   "pygments_lexer": "ipython3",
   "version": "3.10.13"
  }
 },
 "nbformat": 4,
 "nbformat_minor": 5
}
